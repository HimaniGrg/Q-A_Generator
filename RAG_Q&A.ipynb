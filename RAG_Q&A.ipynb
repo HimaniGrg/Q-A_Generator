{
  "cells": [
    {
      "cell_type": "markdown",
      "metadata": {
        "colab_type": "text",
        "id": "view-in-github"
      },
      "source": [
        "<a href=\"https://colab.research.google.com/github/HimaniGrg/Q-A_Generator/blob/main/RAG_Q%26A.ipynb\" target=\"_parent\"><img src=\"https://colab.research.google.com/assets/colab-badge.svg\" alt=\"Open In Colab\"/></a>"
      ]
    },
    {
      "cell_type": "markdown",
      "metadata": {
        "id": "8KVzyo_kfkqc"
      },
      "source": [
        "Simple Retriever-Generator Model for Q&A"
      ]
    },
    {
      "cell_type": "code",
      "execution_count": null,
      "metadata": {
        "colab": {
          "base_uri": "https://localhost:8080/"
        },
        "collapsed": true,
        "id": "0XdHwfGq1qU_",
        "outputId": "8e1fcc78-4bf7-45bf-b668-327c722ae1a6"
      },
      "outputs": [],
      "source": [
        "!pip install transformers datasets"
      ]
    },
    {
      "cell_type": "code",
      "execution_count": null,
      "metadata": {
        "id": "PYXxK4cr6KYe"
      },
      "outputs": [],
      "source": [
        "from transformers import AutoTokenizer, AutoModelForSeq2SeqLM, DataCollatorForLanguageModeling, AutoModelForCausalLM\n",
        "from datasets import Dataset\n",
        "import torch\n",
        "import pandas as pd\n",
        "from sentence_transformers import SentenceTransformer, util\n",
        "import numpy as np"
      ]
    },
    {
      "cell_type": "code",
      "execution_count": null,
      "metadata": {
        "colab": {
          "base_uri": "https://localhost:8080/"
        },
        "id": "MfBSdOlT6iur",
        "outputId": "33f99e34-f4d9-4b83-fed2-4d1af0fa6de7"
      },
      "outputs": [],
      "source": [
        "model_name = \"google/flan-t5-small\"\n",
        "tokenizer = AutoTokenizer.from_pretrained(model_name)\n",
        "model = AutoModelForSeq2SeqLM.from_pretrained(model_name)\n",
        "\n",
        "print(f\"Model: {model_name}\")"
      ]
    },
    {
      "cell_type": "code",
      "execution_count": null,
      "metadata": {
        "id": "lV0eMZgb8Ase"
      },
      "outputs": [],
      "source": [
        "# function to generate the answer based on the prompt\n",
        "def question_answer(prompt, model):\n",
        "    device = torch.device(\"cuda\" if torch.cuda.is_available() else \"cpu\")\n",
        "    model.to(device)\n",
        "\n",
        "    encoded_input = tokenizer(prompt, return_tensors=\"pt\", padding=True, truncation=True)\n",
        "    input_ids = encoded_input[\"input_ids\"].to(device)\n",
        "    attention_mask = encoded_input[\"attention_mask\"].to(device)\n",
        "\n",
        "    outputs = model.generate(input_ids, attention_mask=attention_mask, max_length=256, num_return_sequences=1, no_repeat_ngram_size=2)\n",
        "    answer = tokenizer.decode(outputs[0], skip_special_tokens=True)\n",
        "\n",
        "    return answer"
      ]
    },
    {
      "cell_type": "code",
      "execution_count": null,
      "metadata": {
        "colab": {
          "base_uri": "https://localhost:8080/"
        },
        "id": "0wU3008U9U_a",
        "outputId": "58b34267-c6f3-41a2-84e0-d15717f50e4f"
      },
      "outputs": [],
      "source": [
        "cybersecurity_questions = [\n",
        "    'What is phishing?',\n",
        "    'How does ransomware spread?',\n",
        "    'What role does a firewall play in network security?',\n",
        "    'What is a Man-in-the-Middle (MitM) attack and how can encrypted communications prevent it?',\n",
        "    'What is penetration testing and why is it important for identifying security vulnerabilities?'\n",
        "]\n",
        "security_compliance_questions = [\n",
        "    'What is security compliance?',\n",
        "    'What is the purpose of risk management in security?',\n",
        "    'What are the key components of GDPR compliance?',\n",
        "    'What are the main principles of the NIST cybersecurity framework?',\n",
        "    'What is the purpose of SOC 1 and who needs to follow it?',\n",
        "]\n",
        "\n",
        "# testing the pre-trained model\n",
        "print(\"Cybersecurity question answering before fine-tuning: \\n\")\n",
        "for question in cybersecurity_questions:\n",
        "    answer = question_answer(question, model)\n",
        "    print(f\"Question: {question}\\nAnswer: {answer}\\n\")\n",
        "\n",
        "print(\"------------------------------------------------\")\n",
        "\n",
        "print(\"Security compliance question answering before fine-tuning: \\n \")\n",
        "for question in security_compliance_questions:\n",
        "    answer = question_answer(question, model)\n",
        "    print(f\"Question: {question}\\nAnswer: {answer}\\n\")"
      ]
    },
    {
      "cell_type": "code",
      "execution_count": null,
      "metadata": {
        "id": "7X9Yf2Fd8pOy"
      },
      "outputs": [],
      "source": [
        "# create a cybersecurity and security compliance knowledge base as a CSV file\n",
        "def create_cybersecurity_csv():\n",
        "    \"\"\"Create a CSV file with cybersecurity and security compliances\"\"\"\n",
        "\n",
        "    cybersecurity_data = [\n",
        "        [\"Phishing\", \"A social engineering attack where attackers send fraudulent messages to trick individuals into revealing sensitive information or installing malware. Common indicators include urgent language, suspicious links, and requests for personal information.\"],\n",
        "        [\"Ransomware\", \"A type of malicious software that encrypts a victim's files and demands payment for the decryption key. Ransomware often spreads through phishing emails, malicious downloads, or exploiting system vulnerabilities.\"],\n",
        "        [\"Two-Factor Authentication (2FA)\", \"A security method that requires users to provide two different authentication factors: something they know (password) and something they have (mobile device) or something they are (biometric). This significantly increases account security.\"],\n",
        "        [\"SQL Injection\", \"A code injection technique that exploits vulnerabilities in database-driven websites. Attackers insert malicious SQL statements into entry fields, allowing them to access, modify, or delete data from the database.\"],\n",
        "        [\"Man-in-the-Middle Attack\", \"An attack where the attacker secretly intercepts and possibly alters communications between two parties who believe they're directly communicating with each other. It can be used to steal login credentials or personal information.\"],\n",
        "        [\"VPN\", \"Virtual Private Network creates an encrypted connection over a less secure network. VPNs provide privacy, anonymity, and security by creating a private network from a public internet connection.\"],\n",
        "        [\"Social Engineering\", \"Psychological manipulation techniques that trick people into making security mistakes or giving away sensitive information. Types include phishing, pretexting, baiting, and tailgating.\"],\n",
        "        [\"Firewall\", \"A network security device that monitors and filters incoming and outgoing network traffic based on an organization's security policies. Firewalls establish a barrier between trusted internal networks and untrusted external networks.\"],\n",
        "        [\"Encryption\", \"The process of encoding information so that only authorized parties can access it. Encryption uses mathematical algorithms to convert data into a coded format that appears random without the decryption key.\"],\n",
        "        [\"Malware\", \"Short for malicious software, it refers to any software designed to harm or exploit devices, services, or networks. Types include viruses, trojans, worms, ransomware, spyware, and adware.\"],\n",
        "        [\"Brute Force Attack\", \"A method of trial and error used to decode encrypted data such as passwords by systematically checking all possible combinations until the correct one is found. Protection includes complex passwords and account lockouts.\"],\n",
        "        [\"Penetration Testing\", \"An authorized simulated attack on a computer system to evaluate security. Penetration testers use the same tools and techniques as attackers to find and demonstrate business impacts of vulnerabilities.\"],\n",
        "        [\"Cross-Site Scripting (XSS)\", \"A web security vulnerability that allows attackers to inject client-side scripts into web pages viewed by other users. This can be used to bypass access controls and impersonate users.\"],\n",
        "        [\"Spyware\", \"Software that secretly gathers user information through their internet connection without their knowledge, usually for advertising purposes. It can track internet activity, harvest data, and monitor keystrokes.\"],\n",
        "        [\"Hashing\", \"The process of converting data of any size into a fixed-size string. Unlike encryption, hashing is one-way and cannot be reversed. It's commonly used to verify data integrity and store passwords securely.\"],\n",
        "        [\"Botnet\", \"A network of infected computers controlled remotely by attackers, often used for DDoS attacks or spam distribution. Users are typically unaware their computer is part of a botnet.\"],\n",
        "        [\"Cyber Threat Intelligence\", \"Evidence-based knowledge about existing or emerging threats that helps organizations make informed security decisions. It includes context, mechanisms, indicators, implications, and action-oriented advice.\"],\n",
        "        [\"CSRF Attack\", \"Cross-Site Request Forgery tricks users into submitting unwanted requests to websites where they're authenticated. This can force users to execute actions without their consent or knowledge.\"],\n",
        "        [\"Zero Trust Security\", \"A security model that requires strict identity verification for every person and device trying to access resources, regardless of whether they're inside or outside the network perimeter.\"],\n",
        "        [\"APT\", \"Advanced Persistent Threat is a prolonged, targeted cyber attack where an attacker establishes an undetected presence in a network to steal sensitive data. APTs are typically conducted by nation-states or state-sponsored groups.\"],\n",
        "        [\"Security Misconfigurations\", \"Improperly configured security settings that leave systems vulnerable. Common examples include default credentials, error messages revealing too much information, and unnecessary features enabled.\"],\n",
        "        [\"Privilege Escalation\", \"A type of attack that exploits bugs, design flaws, or configuration oversights to gain elevated access to resources that are normally protected. It allows attackers to gain higher-level permissions than intended.\"],\n",
        "        [\"Supply Chain Attack\", \"A cyber attack that targets less-secure elements in the supply chain, such as third-party vendors or software. The SolarWinds attack of 2020 is a notable example that affected thousands of organizations.\"],\n",
        "        [\"Defense in Depth\", \"A cybersecurity approach that uses multiple layers of security controls throughout a system. If one defense fails, others still provide protection, making it harder for attackers to reach valuable assets.\"],\n",
        "        [\"Digital Forensics\", \"The process of uncovering and interpreting electronic data to preserve evidence in a way that is suitable for presentation in a court of law. Used to investigate cyber crimes and security incidents.\"],\n",
        "        [\"Fileless Malware\", \"A type of malicious software that exists exclusively in a computer's RAM, making it difficult to detect using traditional security tools that scan for files on disk. It often leverages legitimate system tools.\"],\n",
        "        [\"SIEM\", \"Security Information and Event Management systems combine security information management and security event management. They provide real-time analysis of security alerts generated by applications and network hardware.\"]\n",
        "    ]\n",
        "    security_compliance_data = [\n",
        "      [\"GDPR\", \"General Data Protection Regulation, a regulation in EU law on data protection and privacy. It sets guidelines for the collection, storage, and processing of personal data within the EU and addresses the transfer of personal data outside the EU.\"],\n",
        "      [\"ISO/IEC 27001\", \"An international standard for information security management. It provides a framework for managing and securing information, ensuring the confidentiality, integrity, and availability of data within an organization.\"],\n",
        "      [\"HIPAA\", \"The Health Insurance Portability and Accountability Act, a US law that sets standards for protecting sensitive patient data in the healthcare industry. It outlines security and privacy regulations regarding the storage and transmission of healthcare data.\"],\n",
        "      [\"PCI-DSS\", \"The Payment Card Industry Data Security Standard is a set of security standards designed to ensure that all companies that process, store, or transmit credit card information maintain a secure environment.\"],\n",
        "      [\"NIST Cybersecurity Framework\", \"The National Institute of Standards and Technology Cybersecurity Framework provides a set of guidelines for improving the security of critical infrastructure. It includes five core functions: Identify, Protect, Detect, Respond, and Recover.\"],\n",
        "      [\"SOC 2\", \"System and Organization Controls 2 is a framework for managing and securing sensitive customer data. It focuses on the five key areas of security, availability, processing integrity, confidentiality, and privacy.\"],\n",
        "      [\"FISMA\", \"The Federal Information Security Management Act requires federal agencies and contractors to secure information systems. It mandates risk assessments, security planning, and implementation of security controls.\"],\n",
        "      [\"CMMC\", \"The Cybersecurity Maturity Model Certification is a cybersecurity framework specifically designed for Department of Defense contractors. It assesses the maturity and security of an organization’s practices to handle controlled unclassified information.\"],\n",
        "      [\"NIST 800-53\", \"A set of security and privacy controls developed by NIST for federal information systems in the United States. It provides a catalog of controls designed to protect the confidentiality, integrity, and availability of information systems.\"],\n",
        "      [\"SOX\", \"The Sarbanes-Oxley Act sets standards for all U.S. public company boards, management, and public accounting firms. It focuses on financial recordkeeping, internal controls, and corporate governance to prevent fraud.\"],\n",
        "      [\"CIS Controls\", \"The Center for Internet Security Critical Security Controls is a set of best practices to defend against cyber threats. It includes 20 prioritized actions that help organizations improve their cybersecurity posture.\"],\n",
        "      [\"SOC 1\", \"System and Organization Controls 1 is a framework designed for service organizations that provide financial reporting services. It focuses on ensuring that financial data handling by third-party services complies with necessary regulations.\"],\n",
        "      [\"GDPR Data Subject Rights\", \"Under the GDPR, individuals have the right to access, rectify, erase, and restrict the processing of their personal data. These rights also include the ability to object to processing and request data portability.\"],\n",
        "      [\"FCRA\", \"The Fair Credit Reporting Act regulates the collection, use, and dissemination of consumer credit information. It mandates the accuracy and privacy of credit information and requires consent for credit reports.\"],\n",
        "      [\"NIST 800-171\", \"NIST 800-171 provides guidelines for securing Controlled Unclassified Information (CUI) in non-federal systems and organizations. It covers 14 security control families, such as access control, incident response, and system and communications protection.\"]\n",
        "    ]\n",
        "\n",
        "    # Create DataFrame and save to CSV\n",
        "    df = pd.DataFrame(cybersecurity_data, columns=['Concept', 'Description'])\n",
        "    df.to_csv('cybersecurity_knowledge.csv', index=False)\n",
        "    print(f\"Created CSV with {len(df)} cybersecurity concepts\")\n",
        "    return df"
      ]
    },
    {
      "cell_type": "code",
      "execution_count": null,
      "metadata": {
        "colab": {
          "base_uri": "https://localhost:8080/",
          "height": 224
        },
        "id": "ZI7e_RUsG8ey",
        "outputId": "c035cdcd-963a-4243-aff9-96adb75c74c7"
      },
      "outputs": [],
      "source": [
        "df = create_cybersecurity_csv()\n",
        "\n",
        "df.head()"
      ]
    },
    {
      "cell_type": "code",
      "execution_count": null,
      "metadata": {
        "colab": {
          "base_uri": "https://localhost:8080/",
          "height": 206
        },
        "id": "vVunXcmpG-bi",
        "outputId": "919b82f0-8357-44af-f19b-7b451b70473b"
      },
      "outputs": [],
      "source": [
        "df.tail()"
      ]
    },
    {
      "cell_type": "code",
      "execution_count": null,
      "metadata": {
        "colab": {
          "base_uri": "https://localhost:8080/"
        },
        "id": "zI0hyu9iHOPe",
        "outputId": "6cfdf671-e01b-441b-ce15-fcb361fe8edb"
      },
      "outputs": [],
      "source": [
        "# Load sentence transformer for embeddings\n",
        "print(\"Loading embedding model...\")\n",
        "embedding_model = SentenceTransformer('all-MiniLM-L6-v2')\n",
        "\n",
        "# Create embeddings for our knowledge base\n",
        "print(\"Creating embeddings for knowledge base...\")\n",
        "df['text'] = df['Concept'] + \": \" + df['Description']\n",
        "embeddings = embedding_model.encode(df['text'].tolist())\n",
        "print(f\"Created {len(embeddings)} embeddings of dimension {embeddings[0].shape[0]}\")"
      ]
    },
    {
      "cell_type": "code",
      "execution_count": null,
      "metadata": {
        "id": "uxKiGcJmMlxj"
      },
      "outputs": [],
      "source": [
        "# function to retrive relevent concept\n",
        "def retriever(query, df, embeddings):\n",
        "  device = torch.device(\"cuda\" if torch.cuda.is_available() else \"cpu\")\n",
        "  embeddings = torch.tensor(embeddings).to(device)\n",
        "\n",
        "  # encode the query\n",
        "  query_embedding = embedding_model.encode([query], convert_to_tensor=True)\n",
        "\n",
        "  # compute cosined similarities between query and our data\n",
        "  similarities = util.pytorch_cos_sim(query_embedding, embeddings)[0]\n",
        "\n",
        "  most_relevant_index = similarities.argmax().item()\n",
        "\n",
        "  # Return the most relevant concept and description\n",
        "  return df.iloc[most_relevant_index]['Concept'], df.iloc[most_relevant_index]['Description']"
      ]
    },
    {
      "cell_type": "code",
      "execution_count": null,
      "metadata": {
        "colab": {
          "base_uri": "https://localhost:8080/"
        },
        "id": "qaw-xyOuOgoP",
        "outputId": "dbb56b07-0060-42f7-9cba-ec79dd697c86"
      },
      "outputs": [],
      "source": [
        "query = \"What is phishing?\"\n",
        "concept, description = retriever(query, df, embeddings)\n",
        "print(\"Relevant Concept:\", concept)\n",
        "print(\"Description:\", description)"
      ]
    },
    {
      "cell_type": "code",
      "execution_count": null,
      "metadata": {
        "id": "5PJsK9azIH5O"
      },
      "outputs": [],
      "source": [
        "# Function to generate response using FLAN-T5\n",
        "def generate_response(query, model, retrieved_concept, retrieved_desc):\n",
        "    device = torch.device(\"cuda\" if torch.cuda.is_available() else \"cpu\")\n",
        "    model.to(device)\n",
        "\n",
        "    # Combine the query with the relevant information\n",
        "    input_text = f\"Question: {query} Answer with context: {retrieved_concept} \\n Description: {retrieved_desc}\"\n",
        "\n",
        "    # Tokenize the prompt\n",
        "    encoded_input = tokenizer(input_text, return_tensors=\"pt\", padding=True, truncation=True)\n",
        "    input_ids = encoded_input[\"input_ids\"].to(device)\n",
        "    attention_mask = encoded_input[\"attention_mask\"].to(device)\n",
        "\n",
        "    # Generate response\n",
        "    outputs = model.generate(input_ids, attention_mask=attention_mask, max_length=256, num_return_sequences=1, no_repeat_ngram_size=2)\n",
        "\n",
        "    # Decode and return the generated response\n",
        "    response = tokenizer.decode(outputs[0], skip_special_tokens=True)\n",
        "    return response"
      ]
    },
    {
      "cell_type": "code",
      "execution_count": null,
      "metadata": {
        "id": "tIICcg81WDRS"
      },
      "outputs": [],
      "source": [
        "def question_answer_rag(query, model, df, embeddings):\n",
        "    # Retrieve relevant concept and description\n",
        "    retrieved_concept, retrieved_desc = retriever(query, df, embeddings)\n",
        "\n",
        "    answer = generate_response(query, model, retrieved_concept, retrieved_desc)\n",
        "    return answer"
      ]
    },
    {
      "cell_type": "code",
      "execution_count": null,
      "metadata": {
        "colab": {
          "base_uri": "https://localhost:8080/",
          "height": 49,
          "referenced_widgets": [
            "4df2be8ecb83447d936753ddb63b5bfc",
            "f1261aba35974555bd8e267f899b3327",
            "9ea4a612c87745d3a9a9ff82e038ec88",
            "1c5256ac13d0437ba0d7c029dff2be7b",
            "79489311d81c4a5fa91ce555491fb9d2",
            "42b88da05d0e4e3f9742bd00a1da1e09",
            "32b01e9931994db1820ef06a61fd388e",
            "63674a84e7de4f1eaf5c6044bbdd1089",
            "fe0cc3d9a1684ce6a6aae33c69000019",
            "87dd026f45ca40b9a409f1c4dc13586f",
            "39989e98694b4074a5c8cd42d9b8c5a5"
          ]
        },
        "id": "z-1G6TGgXqT1",
        "outputId": "55dd5841-6907-440c-aebe-ee465a8633bd"
      },
      "outputs": [],
      "source": [
        "model_name = \"distilgpt2\"\n",
        "tokenizer = AutoTokenizer.from_pretrained(model_name)\n",
        "tokenizer.pad_token = tokenizer.eos_token\n",
        "generator_model = AutoModelForCausalLM.from_pretrained(model_name)"
      ]
    },
    {
      "cell_type": "code",
      "execution_count": null,
      "metadata": {
        "colab": {
          "base_uri": "https://localhost:8080/"
        },
        "id": "4w8oaZLNVKOr",
        "outputId": "733cac9c-b4e5-4b7d-9ef1-8305c7fb5640"
      },
      "outputs": [],
      "source": [
        "cybersecurity_questions = [\n",
        "    'What is phishing and how can you protect against it?',\n",
        "    'How does ransomware spread and what steps should be taken to prevent it?',\n",
        "    'What role does a firewall play in network security?',\n",
        "    'What is a Man-in-the-Middle (MitM) attack and how can encrypted communications prevent it?',\n",
        "    'What is penetration testing and why is it important for identifying security vulnerabilities?'\n",
        "]\n",
        "security_compliance_questions = [\n",
        "    'What is security compliance?',\n",
        "    'What is the purpose of risk management in security?',\n",
        "    'What are the key components of GDPR compliance?',\n",
        "    'What are the main principles of the NIST cybersecurity framework?',\n",
        "    'What is the purpose of SOC 1 and who needs to follow it?',\n",
        "]\n",
        "\n",
        "# testing the pre-trained model\n",
        "print(\"Cybersecurity question answering after implementation of RAG: \\n\")\n",
        "for question in cybersecurity_questions:\n",
        "    answer = question_answer_rag(question, generator_model, df, embeddings)\n",
        "    print(f\"{answer}\\n\")\n",
        "\n",
        "print(\"------------------------------------------------\")\n",
        "\n",
        "print(\"Security compliance question answering after implementation of RAG: \\n \")\n",
        "for question in security_compliance_questions:\n",
        "    answer = question_answer_rag(question, generator_model, df, embeddings)\n",
        "    print(f\"{answer}\\n\")"
      ]
    }
  ],
  "metadata": {
    "accelerator": "GPU",
    "colab": {
      "authorship_tag": "ABX9TyN6NhLbg83xzzxIV2korn45",
      "gpuType": "T4",
      "include_colab_link": true,
      "provenance": []
    },
    "kernelspec": {
      "display_name": "Python 3",
      "name": "python3"
    },
    "language_info": {
      "name": "python"
    },
    "widgets": {
      "application/vnd.jupyter.widget-state+json": {
        "1c5256ac13d0437ba0d7c029dff2be7b": {
          "model_module": "@jupyter-widgets/controls",
          "model_module_version": "1.5.0",
          "model_name": "HTMLModel",
          "state": {
            "_dom_classes": [],
            "_model_module": "@jupyter-widgets/controls",
            "_model_module_version": "1.5.0",
            "_model_name": "HTMLModel",
            "_view_count": null,
            "_view_module": "@jupyter-widgets/controls",
            "_view_module_version": "1.5.0",
            "_view_name": "HTMLView",
            "description": "",
            "description_tooltip": null,
            "layout": "IPY_MODEL_87dd026f45ca40b9a409f1c4dc13586f",
            "placeholder": "​",
            "style": "IPY_MODEL_39989e98694b4074a5c8cd42d9b8c5a5",
            "value": " 124/124 [00:00&lt;00:00, 11.5kB/s]"
          }
        },
        "32b01e9931994db1820ef06a61fd388e": {
          "model_module": "@jupyter-widgets/controls",
          "model_module_version": "1.5.0",
          "model_name": "DescriptionStyleModel",
          "state": {
            "_model_module": "@jupyter-widgets/controls",
            "_model_module_version": "1.5.0",
            "_model_name": "DescriptionStyleModel",
            "_view_count": null,
            "_view_module": "@jupyter-widgets/base",
            "_view_module_version": "1.2.0",
            "_view_name": "StyleView",
            "description_width": ""
          }
        },
        "39989e98694b4074a5c8cd42d9b8c5a5": {
          "model_module": "@jupyter-widgets/controls",
          "model_module_version": "1.5.0",
          "model_name": "DescriptionStyleModel",
          "state": {
            "_model_module": "@jupyter-widgets/controls",
            "_model_module_version": "1.5.0",
            "_model_name": "DescriptionStyleModel",
            "_view_count": null,
            "_view_module": "@jupyter-widgets/base",
            "_view_module_version": "1.2.0",
            "_view_name": "StyleView",
            "description_width": ""
          }
        },
        "42b88da05d0e4e3f9742bd00a1da1e09": {
          "model_module": "@jupyter-widgets/base",
          "model_module_version": "1.2.0",
          "model_name": "LayoutModel",
          "state": {
            "_model_module": "@jupyter-widgets/base",
            "_model_module_version": "1.2.0",
            "_model_name": "LayoutModel",
            "_view_count": null,
            "_view_module": "@jupyter-widgets/base",
            "_view_module_version": "1.2.0",
            "_view_name": "LayoutView",
            "align_content": null,
            "align_items": null,
            "align_self": null,
            "border": null,
            "bottom": null,
            "display": null,
            "flex": null,
            "flex_flow": null,
            "grid_area": null,
            "grid_auto_columns": null,
            "grid_auto_flow": null,
            "grid_auto_rows": null,
            "grid_column": null,
            "grid_gap": null,
            "grid_row": null,
            "grid_template_areas": null,
            "grid_template_columns": null,
            "grid_template_rows": null,
            "height": null,
            "justify_content": null,
            "justify_items": null,
            "left": null,
            "margin": null,
            "max_height": null,
            "max_width": null,
            "min_height": null,
            "min_width": null,
            "object_fit": null,
            "object_position": null,
            "order": null,
            "overflow": null,
            "overflow_x": null,
            "overflow_y": null,
            "padding": null,
            "right": null,
            "top": null,
            "visibility": null,
            "width": null
          }
        },
        "4df2be8ecb83447d936753ddb63b5bfc": {
          "model_module": "@jupyter-widgets/controls",
          "model_module_version": "1.5.0",
          "model_name": "HBoxModel",
          "state": {
            "_dom_classes": [],
            "_model_module": "@jupyter-widgets/controls",
            "_model_module_version": "1.5.0",
            "_model_name": "HBoxModel",
            "_view_count": null,
            "_view_module": "@jupyter-widgets/controls",
            "_view_module_version": "1.5.0",
            "_view_name": "HBoxView",
            "box_style": "",
            "children": [
              "IPY_MODEL_f1261aba35974555bd8e267f899b3327",
              "IPY_MODEL_9ea4a612c87745d3a9a9ff82e038ec88",
              "IPY_MODEL_1c5256ac13d0437ba0d7c029dff2be7b"
            ],
            "layout": "IPY_MODEL_79489311d81c4a5fa91ce555491fb9d2"
          }
        },
        "63674a84e7de4f1eaf5c6044bbdd1089": {
          "model_module": "@jupyter-widgets/base",
          "model_module_version": "1.2.0",
          "model_name": "LayoutModel",
          "state": {
            "_model_module": "@jupyter-widgets/base",
            "_model_module_version": "1.2.0",
            "_model_name": "LayoutModel",
            "_view_count": null,
            "_view_module": "@jupyter-widgets/base",
            "_view_module_version": "1.2.0",
            "_view_name": "LayoutView",
            "align_content": null,
            "align_items": null,
            "align_self": null,
            "border": null,
            "bottom": null,
            "display": null,
            "flex": null,
            "flex_flow": null,
            "grid_area": null,
            "grid_auto_columns": null,
            "grid_auto_flow": null,
            "grid_auto_rows": null,
            "grid_column": null,
            "grid_gap": null,
            "grid_row": null,
            "grid_template_areas": null,
            "grid_template_columns": null,
            "grid_template_rows": null,
            "height": null,
            "justify_content": null,
            "justify_items": null,
            "left": null,
            "margin": null,
            "max_height": null,
            "max_width": null,
            "min_height": null,
            "min_width": null,
            "object_fit": null,
            "object_position": null,
            "order": null,
            "overflow": null,
            "overflow_x": null,
            "overflow_y": null,
            "padding": null,
            "right": null,
            "top": null,
            "visibility": null,
            "width": null
          }
        },
        "79489311d81c4a5fa91ce555491fb9d2": {
          "model_module": "@jupyter-widgets/base",
          "model_module_version": "1.2.0",
          "model_name": "LayoutModel",
          "state": {
            "_model_module": "@jupyter-widgets/base",
            "_model_module_version": "1.2.0",
            "_model_name": "LayoutModel",
            "_view_count": null,
            "_view_module": "@jupyter-widgets/base",
            "_view_module_version": "1.2.0",
            "_view_name": "LayoutView",
            "align_content": null,
            "align_items": null,
            "align_self": null,
            "border": null,
            "bottom": null,
            "display": null,
            "flex": null,
            "flex_flow": null,
            "grid_area": null,
            "grid_auto_columns": null,
            "grid_auto_flow": null,
            "grid_auto_rows": null,
            "grid_column": null,
            "grid_gap": null,
            "grid_row": null,
            "grid_template_areas": null,
            "grid_template_columns": null,
            "grid_template_rows": null,
            "height": null,
            "justify_content": null,
            "justify_items": null,
            "left": null,
            "margin": null,
            "max_height": null,
            "max_width": null,
            "min_height": null,
            "min_width": null,
            "object_fit": null,
            "object_position": null,
            "order": null,
            "overflow": null,
            "overflow_x": null,
            "overflow_y": null,
            "padding": null,
            "right": null,
            "top": null,
            "visibility": null,
            "width": null
          }
        },
        "87dd026f45ca40b9a409f1c4dc13586f": {
          "model_module": "@jupyter-widgets/base",
          "model_module_version": "1.2.0",
          "model_name": "LayoutModel",
          "state": {
            "_model_module": "@jupyter-widgets/base",
            "_model_module_version": "1.2.0",
            "_model_name": "LayoutModel",
            "_view_count": null,
            "_view_module": "@jupyter-widgets/base",
            "_view_module_version": "1.2.0",
            "_view_name": "LayoutView",
            "align_content": null,
            "align_items": null,
            "align_self": null,
            "border": null,
            "bottom": null,
            "display": null,
            "flex": null,
            "flex_flow": null,
            "grid_area": null,
            "grid_auto_columns": null,
            "grid_auto_flow": null,
            "grid_auto_rows": null,
            "grid_column": null,
            "grid_gap": null,
            "grid_row": null,
            "grid_template_areas": null,
            "grid_template_columns": null,
            "grid_template_rows": null,
            "height": null,
            "justify_content": null,
            "justify_items": null,
            "left": null,
            "margin": null,
            "max_height": null,
            "max_width": null,
            "min_height": null,
            "min_width": null,
            "object_fit": null,
            "object_position": null,
            "order": null,
            "overflow": null,
            "overflow_x": null,
            "overflow_y": null,
            "padding": null,
            "right": null,
            "top": null,
            "visibility": null,
            "width": null
          }
        },
        "9ea4a612c87745d3a9a9ff82e038ec88": {
          "model_module": "@jupyter-widgets/controls",
          "model_module_version": "1.5.0",
          "model_name": "FloatProgressModel",
          "state": {
            "_dom_classes": [],
            "_model_module": "@jupyter-widgets/controls",
            "_model_module_version": "1.5.0",
            "_model_name": "FloatProgressModel",
            "_view_count": null,
            "_view_module": "@jupyter-widgets/controls",
            "_view_module_version": "1.5.0",
            "_view_name": "ProgressView",
            "bar_style": "success",
            "description": "",
            "description_tooltip": null,
            "layout": "IPY_MODEL_63674a84e7de4f1eaf5c6044bbdd1089",
            "max": 124,
            "min": 0,
            "orientation": "horizontal",
            "style": "IPY_MODEL_fe0cc3d9a1684ce6a6aae33c69000019",
            "value": 124
          }
        },
        "f1261aba35974555bd8e267f899b3327": {
          "model_module": "@jupyter-widgets/controls",
          "model_module_version": "1.5.0",
          "model_name": "HTMLModel",
          "state": {
            "_dom_classes": [],
            "_model_module": "@jupyter-widgets/controls",
            "_model_module_version": "1.5.0",
            "_model_name": "HTMLModel",
            "_view_count": null,
            "_view_module": "@jupyter-widgets/controls",
            "_view_module_version": "1.5.0",
            "_view_name": "HTMLView",
            "description": "",
            "description_tooltip": null,
            "layout": "IPY_MODEL_42b88da05d0e4e3f9742bd00a1da1e09",
            "placeholder": "​",
            "style": "IPY_MODEL_32b01e9931994db1820ef06a61fd388e",
            "value": "generation_config.json: 100%"
          }
        },
        "fe0cc3d9a1684ce6a6aae33c69000019": {
          "model_module": "@jupyter-widgets/controls",
          "model_module_version": "1.5.0",
          "model_name": "ProgressStyleModel",
          "state": {
            "_model_module": "@jupyter-widgets/controls",
            "_model_module_version": "1.5.0",
            "_model_name": "ProgressStyleModel",
            "_view_count": null,
            "_view_module": "@jupyter-widgets/base",
            "_view_module_version": "1.2.0",
            "_view_name": "StyleView",
            "bar_color": null,
            "description_width": ""
          }
        }
      },
      "state": {}
    }
  },
  "nbformat": 4,
  "nbformat_minor": 0
}
