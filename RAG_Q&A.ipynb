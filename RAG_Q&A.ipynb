{
  "nbformat": 4,
  "nbformat_minor": 0,
  "metadata": {
    "colab": {
      "provenance": [],
      "gpuType": "T4",
      "authorship_tag": "ABX9TyN6NhLbg83xzzxIV2korn45",
      "include_colab_link": true
    },
    "kernelspec": {
      "name": "python3",
      "display_name": "Python 3"
    },
    "language_info": {
      "name": "python"
    },
    "accelerator": "GPU",
    "widgets": {
      "application/vnd.jupyter.widget-state+json": {
        "4df2be8ecb83447d936753ddb63b5bfc": {
          "model_module": "@jupyter-widgets/controls",
          "model_name": "HBoxModel",
          "model_module_version": "1.5.0",
          "state": {
            "_dom_classes": [],
            "_model_module": "@jupyter-widgets/controls",
            "_model_module_version": "1.5.0",
            "_model_name": "HBoxModel",
            "_view_count": null,
            "_view_module": "@jupyter-widgets/controls",
            "_view_module_version": "1.5.0",
            "_view_name": "HBoxView",
            "box_style": "",
            "children": [
              "IPY_MODEL_f1261aba35974555bd8e267f899b3327",
              "IPY_MODEL_9ea4a612c87745d3a9a9ff82e038ec88",
              "IPY_MODEL_1c5256ac13d0437ba0d7c029dff2be7b"
            ],
            "layout": "IPY_MODEL_79489311d81c4a5fa91ce555491fb9d2"
          }
        },
        "f1261aba35974555bd8e267f899b3327": {
          "model_module": "@jupyter-widgets/controls",
          "model_name": "HTMLModel",
          "model_module_version": "1.5.0",
          "state": {
            "_dom_classes": [],
            "_model_module": "@jupyter-widgets/controls",
            "_model_module_version": "1.5.0",
            "_model_name": "HTMLModel",
            "_view_count": null,
            "_view_module": "@jupyter-widgets/controls",
            "_view_module_version": "1.5.0",
            "_view_name": "HTMLView",
            "description": "",
            "description_tooltip": null,
            "layout": "IPY_MODEL_42b88da05d0e4e3f9742bd00a1da1e09",
            "placeholder": "​",
            "style": "IPY_MODEL_32b01e9931994db1820ef06a61fd388e",
            "value": "generation_config.json: 100%"
          }
        },
        "9ea4a612c87745d3a9a9ff82e038ec88": {
          "model_module": "@jupyter-widgets/controls",
          "model_name": "FloatProgressModel",
          "model_module_version": "1.5.0",
          "state": {
            "_dom_classes": [],
            "_model_module": "@jupyter-widgets/controls",
            "_model_module_version": "1.5.0",
            "_model_name": "FloatProgressModel",
            "_view_count": null,
            "_view_module": "@jupyter-widgets/controls",
            "_view_module_version": "1.5.0",
            "_view_name": "ProgressView",
            "bar_style": "success",
            "description": "",
            "description_tooltip": null,
            "layout": "IPY_MODEL_63674a84e7de4f1eaf5c6044bbdd1089",
            "max": 124,
            "min": 0,
            "orientation": "horizontal",
            "style": "IPY_MODEL_fe0cc3d9a1684ce6a6aae33c69000019",
            "value": 124
          }
        },
        "1c5256ac13d0437ba0d7c029dff2be7b": {
          "model_module": "@jupyter-widgets/controls",
          "model_name": "HTMLModel",
          "model_module_version": "1.5.0",
          "state": {
            "_dom_classes": [],
            "_model_module": "@jupyter-widgets/controls",
            "_model_module_version": "1.5.0",
            "_model_name": "HTMLModel",
            "_view_count": null,
            "_view_module": "@jupyter-widgets/controls",
            "_view_module_version": "1.5.0",
            "_view_name": "HTMLView",
            "description": "",
            "description_tooltip": null,
            "layout": "IPY_MODEL_87dd026f45ca40b9a409f1c4dc13586f",
            "placeholder": "​",
            "style": "IPY_MODEL_39989e98694b4074a5c8cd42d9b8c5a5",
            "value": " 124/124 [00:00&lt;00:00, 11.5kB/s]"
          }
        },
        "79489311d81c4a5fa91ce555491fb9d2": {
          "model_module": "@jupyter-widgets/base",
          "model_name": "LayoutModel",
          "model_module_version": "1.2.0",
          "state": {
            "_model_module": "@jupyter-widgets/base",
            "_model_module_version": "1.2.0",
            "_model_name": "LayoutModel",
            "_view_count": null,
            "_view_module": "@jupyter-widgets/base",
            "_view_module_version": "1.2.0",
            "_view_name": "LayoutView",
            "align_content": null,
            "align_items": null,
            "align_self": null,
            "border": null,
            "bottom": null,
            "display": null,
            "flex": null,
            "flex_flow": null,
            "grid_area": null,
            "grid_auto_columns": null,
            "grid_auto_flow": null,
            "grid_auto_rows": null,
            "grid_column": null,
            "grid_gap": null,
            "grid_row": null,
            "grid_template_areas": null,
            "grid_template_columns": null,
            "grid_template_rows": null,
            "height": null,
            "justify_content": null,
            "justify_items": null,
            "left": null,
            "margin": null,
            "max_height": null,
            "max_width": null,
            "min_height": null,
            "min_width": null,
            "object_fit": null,
            "object_position": null,
            "order": null,
            "overflow": null,
            "overflow_x": null,
            "overflow_y": null,
            "padding": null,
            "right": null,
            "top": null,
            "visibility": null,
            "width": null
          }
        },
        "42b88da05d0e4e3f9742bd00a1da1e09": {
          "model_module": "@jupyter-widgets/base",
          "model_name": "LayoutModel",
          "model_module_version": "1.2.0",
          "state": {
            "_model_module": "@jupyter-widgets/base",
            "_model_module_version": "1.2.0",
            "_model_name": "LayoutModel",
            "_view_count": null,
            "_view_module": "@jupyter-widgets/base",
            "_view_module_version": "1.2.0",
            "_view_name": "LayoutView",
            "align_content": null,
            "align_items": null,
            "align_self": null,
            "border": null,
            "bottom": null,
            "display": null,
            "flex": null,
            "flex_flow": null,
            "grid_area": null,
            "grid_auto_columns": null,
            "grid_auto_flow": null,
            "grid_auto_rows": null,
            "grid_column": null,
            "grid_gap": null,
            "grid_row": null,
            "grid_template_areas": null,
            "grid_template_columns": null,
            "grid_template_rows": null,
            "height": null,
            "justify_content": null,
            "justify_items": null,
            "left": null,
            "margin": null,
            "max_height": null,
            "max_width": null,
            "min_height": null,
            "min_width": null,
            "object_fit": null,
            "object_position": null,
            "order": null,
            "overflow": null,
            "overflow_x": null,
            "overflow_y": null,
            "padding": null,
            "right": null,
            "top": null,
            "visibility": null,
            "width": null
          }
        },
        "32b01e9931994db1820ef06a61fd388e": {
          "model_module": "@jupyter-widgets/controls",
          "model_name": "DescriptionStyleModel",
          "model_module_version": "1.5.0",
          "state": {
            "_model_module": "@jupyter-widgets/controls",
            "_model_module_version": "1.5.0",
            "_model_name": "DescriptionStyleModel",
            "_view_count": null,
            "_view_module": "@jupyter-widgets/base",
            "_view_module_version": "1.2.0",
            "_view_name": "StyleView",
            "description_width": ""
          }
        },
        "63674a84e7de4f1eaf5c6044bbdd1089": {
          "model_module": "@jupyter-widgets/base",
          "model_name": "LayoutModel",
          "model_module_version": "1.2.0",
          "state": {
            "_model_module": "@jupyter-widgets/base",
            "_model_module_version": "1.2.0",
            "_model_name": "LayoutModel",
            "_view_count": null,
            "_view_module": "@jupyter-widgets/base",
            "_view_module_version": "1.2.0",
            "_view_name": "LayoutView",
            "align_content": null,
            "align_items": null,
            "align_self": null,
            "border": null,
            "bottom": null,
            "display": null,
            "flex": null,
            "flex_flow": null,
            "grid_area": null,
            "grid_auto_columns": null,
            "grid_auto_flow": null,
            "grid_auto_rows": null,
            "grid_column": null,
            "grid_gap": null,
            "grid_row": null,
            "grid_template_areas": null,
            "grid_template_columns": null,
            "grid_template_rows": null,
            "height": null,
            "justify_content": null,
            "justify_items": null,
            "left": null,
            "margin": null,
            "max_height": null,
            "max_width": null,
            "min_height": null,
            "min_width": null,
            "object_fit": null,
            "object_position": null,
            "order": null,
            "overflow": null,
            "overflow_x": null,
            "overflow_y": null,
            "padding": null,
            "right": null,
            "top": null,
            "visibility": null,
            "width": null
          }
        },
        "fe0cc3d9a1684ce6a6aae33c69000019": {
          "model_module": "@jupyter-widgets/controls",
          "model_name": "ProgressStyleModel",
          "model_module_version": "1.5.0",
          "state": {
            "_model_module": "@jupyter-widgets/controls",
            "_model_module_version": "1.5.0",
            "_model_name": "ProgressStyleModel",
            "_view_count": null,
            "_view_module": "@jupyter-widgets/base",
            "_view_module_version": "1.2.0",
            "_view_name": "StyleView",
            "bar_color": null,
            "description_width": ""
          }
        },
        "87dd026f45ca40b9a409f1c4dc13586f": {
          "model_module": "@jupyter-widgets/base",
          "model_name": "LayoutModel",
          "model_module_version": "1.2.0",
          "state": {
            "_model_module": "@jupyter-widgets/base",
            "_model_module_version": "1.2.0",
            "_model_name": "LayoutModel",
            "_view_count": null,
            "_view_module": "@jupyter-widgets/base",
            "_view_module_version": "1.2.0",
            "_view_name": "LayoutView",
            "align_content": null,
            "align_items": null,
            "align_self": null,
            "border": null,
            "bottom": null,
            "display": null,
            "flex": null,
            "flex_flow": null,
            "grid_area": null,
            "grid_auto_columns": null,
            "grid_auto_flow": null,
            "grid_auto_rows": null,
            "grid_column": null,
            "grid_gap": null,
            "grid_row": null,
            "grid_template_areas": null,
            "grid_template_columns": null,
            "grid_template_rows": null,
            "height": null,
            "justify_content": null,
            "justify_items": null,
            "left": null,
            "margin": null,
            "max_height": null,
            "max_width": null,
            "min_height": null,
            "min_width": null,
            "object_fit": null,
            "object_position": null,
            "order": null,
            "overflow": null,
            "overflow_x": null,
            "overflow_y": null,
            "padding": null,
            "right": null,
            "top": null,
            "visibility": null,
            "width": null
          }
        },
        "39989e98694b4074a5c8cd42d9b8c5a5": {
          "model_module": "@jupyter-widgets/controls",
          "model_name": "DescriptionStyleModel",
          "model_module_version": "1.5.0",
          "state": {
            "_model_module": "@jupyter-widgets/controls",
            "_model_module_version": "1.5.0",
            "_model_name": "DescriptionStyleModel",
            "_view_count": null,
            "_view_module": "@jupyter-widgets/base",
            "_view_module_version": "1.2.0",
            "_view_name": "StyleView",
            "description_width": ""
          }
        }
      }
    }
  },
  "cells": [
    {
      "cell_type": "markdown",
      "metadata": {
        "id": "view-in-github",
        "colab_type": "text"
      },
      "source": [
        "<a href=\"https://colab.research.google.com/github/HimaniGrg/Q-A_Generator/blob/main/RAG_Q%26A.ipynb\" target=\"_parent\"><img src=\"https://colab.research.google.com/assets/colab-badge.svg\" alt=\"Open In Colab\"/></a>"
      ]
    },
    {
      "cell_type": "code",
      "source": [],
      "metadata": {
        "id": "Zvpz7nlwJU_i"
      },
      "execution_count": null,
      "outputs": []
    },
    {
      "cell_type": "markdown",
      "source": [
        "Simple Retriever-Generator Model for Q&A"
      ],
      "metadata": {
        "id": "8KVzyo_kfkqc"
      }
    },
    {
      "cell_type": "code",
      "execution_count": null,
      "metadata": {
        "id": "0XdHwfGq1qU_",
        "colab": {
          "base_uri": "https://localhost:8080/"
        },
        "outputId": "8e1fcc78-4bf7-45bf-b668-327c722ae1a6",
        "collapsed": true
      },
      "outputs": [
        {
          "output_type": "stream",
          "name": "stdout",
          "text": [
            "Requirement already satisfied: transformers in /usr/local/lib/python3.11/dist-packages (4.51.3)\n",
            "Requirement already satisfied: datasets in /usr/local/lib/python3.11/dist-packages (3.5.0)\n",
            "Requirement already satisfied: filelock in /usr/local/lib/python3.11/dist-packages (from transformers) (3.18.0)\n",
            "Requirement already satisfied: huggingface-hub<1.0,>=0.30.0 in /usr/local/lib/python3.11/dist-packages (from transformers) (0.30.2)\n",
            "Requirement already satisfied: numpy>=1.17 in /usr/local/lib/python3.11/dist-packages (from transformers) (2.0.2)\n",
            "Requirement already satisfied: packaging>=20.0 in /usr/local/lib/python3.11/dist-packages (from transformers) (24.2)\n",
            "Requirement already satisfied: pyyaml>=5.1 in /usr/local/lib/python3.11/dist-packages (from transformers) (6.0.2)\n",
            "Requirement already satisfied: regex!=2019.12.17 in /usr/local/lib/python3.11/dist-packages (from transformers) (2024.11.6)\n",
            "Requirement already satisfied: requests in /usr/local/lib/python3.11/dist-packages (from transformers) (2.32.3)\n",
            "Requirement already satisfied: tokenizers<0.22,>=0.21 in /usr/local/lib/python3.11/dist-packages (from transformers) (0.21.1)\n",
            "Requirement already satisfied: safetensors>=0.4.3 in /usr/local/lib/python3.11/dist-packages (from transformers) (0.5.3)\n",
            "Requirement already satisfied: tqdm>=4.27 in /usr/local/lib/python3.11/dist-packages (from transformers) (4.67.1)\n",
            "Requirement already satisfied: pyarrow>=15.0.0 in /usr/local/lib/python3.11/dist-packages (from datasets) (18.1.0)\n",
            "Requirement already satisfied: dill<0.3.9,>=0.3.0 in /usr/local/lib/python3.11/dist-packages (from datasets) (0.3.8)\n",
            "Requirement already satisfied: pandas in /usr/local/lib/python3.11/dist-packages (from datasets) (2.2.2)\n",
            "Requirement already satisfied: xxhash in /usr/local/lib/python3.11/dist-packages (from datasets) (3.5.0)\n",
            "Requirement already satisfied: multiprocess<0.70.17 in /usr/local/lib/python3.11/dist-packages (from datasets) (0.70.16)\n",
            "Requirement already satisfied: fsspec<=2024.12.0,>=2023.1.0 in /usr/local/lib/python3.11/dist-packages (from fsspec[http]<=2024.12.0,>=2023.1.0->datasets) (2024.12.0)\n",
            "Requirement already satisfied: aiohttp in /usr/local/lib/python3.11/dist-packages (from datasets) (3.11.15)\n",
            "Requirement already satisfied: aiohappyeyeballs>=2.3.0 in /usr/local/lib/python3.11/dist-packages (from aiohttp->datasets) (2.6.1)\n",
            "Requirement already satisfied: aiosignal>=1.1.2 in /usr/local/lib/python3.11/dist-packages (from aiohttp->datasets) (1.3.2)\n",
            "Requirement already satisfied: attrs>=17.3.0 in /usr/local/lib/python3.11/dist-packages (from aiohttp->datasets) (25.3.0)\n",
            "Requirement already satisfied: frozenlist>=1.1.1 in /usr/local/lib/python3.11/dist-packages (from aiohttp->datasets) (1.6.0)\n",
            "Requirement already satisfied: multidict<7.0,>=4.5 in /usr/local/lib/python3.11/dist-packages (from aiohttp->datasets) (6.4.3)\n",
            "Requirement already satisfied: propcache>=0.2.0 in /usr/local/lib/python3.11/dist-packages (from aiohttp->datasets) (0.3.1)\n",
            "Requirement already satisfied: yarl<2.0,>=1.17.0 in /usr/local/lib/python3.11/dist-packages (from aiohttp->datasets) (1.20.0)\n",
            "Requirement already satisfied: typing-extensions>=3.7.4.3 in /usr/local/lib/python3.11/dist-packages (from huggingface-hub<1.0,>=0.30.0->transformers) (4.13.2)\n",
            "Requirement already satisfied: charset-normalizer<4,>=2 in /usr/local/lib/python3.11/dist-packages (from requests->transformers) (3.4.1)\n",
            "Requirement already satisfied: idna<4,>=2.5 in /usr/local/lib/python3.11/dist-packages (from requests->transformers) (3.10)\n",
            "Requirement already satisfied: urllib3<3,>=1.21.1 in /usr/local/lib/python3.11/dist-packages (from requests->transformers) (2.3.0)\n",
            "Requirement already satisfied: certifi>=2017.4.17 in /usr/local/lib/python3.11/dist-packages (from requests->transformers) (2025.1.31)\n",
            "Requirement already satisfied: python-dateutil>=2.8.2 in /usr/local/lib/python3.11/dist-packages (from pandas->datasets) (2.8.2)\n",
            "Requirement already satisfied: pytz>=2020.1 in /usr/local/lib/python3.11/dist-packages (from pandas->datasets) (2025.2)\n",
            "Requirement already satisfied: tzdata>=2022.7 in /usr/local/lib/python3.11/dist-packages (from pandas->datasets) (2025.2)\n",
            "Requirement already satisfied: six>=1.5 in /usr/local/lib/python3.11/dist-packages (from python-dateutil>=2.8.2->pandas->datasets) (1.17.0)\n"
          ]
        }
      ],
      "source": [
        "!pip install transformers datasets"
      ]
    },
    {
      "cell_type": "code",
      "source": [
        "from transformers import AutoTokenizer, AutoModelForSeq2SeqLM, DataCollatorForLanguageModeling, AutoModelForCausalLM\n",
        "from datasets import Dataset\n",
        "import torch\n",
        "import pandas as pd\n",
        "from sentence_transformers import SentenceTransformer, util\n",
        "import numpy as np"
      ],
      "metadata": {
        "id": "PYXxK4cr6KYe"
      },
      "execution_count": null,
      "outputs": []
    },
    {
      "cell_type": "code",
      "source": [
        "model_name = \"google/flan-t5-small\"\n",
        "tokenizer = AutoTokenizer.from_pretrained(model_name)\n",
        "model = AutoModelForSeq2SeqLM.from_pretrained(model_name)f\n",
        "\n",
        "print(f\"Model: {model_name}\")"
      ],
      "metadata": {
        "colab": {
          "base_uri": "https://localhost:8080/"
        },
        "id": "MfBSdOlT6iur",
        "outputId": "33f99e34-f4d9-4b83-fed2-4d1af0fa6de7"
      },
      "execution_count": null,
      "outputs": [
        {
          "output_type": "stream",
          "name": "stdout",
          "text": [
            "Model: google/flan-t5-small\n"
          ]
        }
      ]
    },
    {
      "cell_type": "code",
      "source": [
        "# function to generate the answer based on the prompt\n",
        "def question_answer(prompt, model):\n",
        "    device = torch.device(\"cuda\" if torch.cuda.is_available() else \"cpu\")\n",
        "    model.to(device)\n",
        "\n",
        "    encoded_input = tokenizer(prompt, return_tensors=\"pt\", padding=True, truncation=True)\n",
        "    input_ids = encoded_input[\"input_ids\"].to(device)\n",
        "    attention_mask = encoded_input[\"attention_mask\"].to(device)\n",
        "\n",
        "    outputs = model.generate(input_ids, attention_mask=attention_mask, max_length=256, num_return_sequences=1, no_repeat_ngram_size=2)\n",
        "    answer = tokenizer.decode(outputs[0], skip_special_tokens=True)\n",
        "\n",
        "    return answer"
      ],
      "metadata": {
        "id": "lV0eMZgb8Ase"
      },
      "execution_count": null,
      "outputs": []
    },
    {
      "cell_type": "code",
      "source": [
        "cybersecurity_questions = [\n",
        "    'What is phishing?',\n",
        "    'How does ransomware spread?',\n",
        "    'What role does a firewall play in network security?',\n",
        "    'What is a Man-in-the-Middle (MitM) attack and how can encrypted communications prevent it?',\n",
        "    'What is penetration testing and why is it important for identifying security vulnerabilities?'\n",
        "]\n",
        "security_compliance_questions = [\n",
        "    'What is security compliance?',\n",
        "    'What is the purpose of risk management in security?',\n",
        "    'What are the key components of GDPR compliance?',\n",
        "    'What are the main principles of the NIST cybersecurity framework?',\n",
        "    'What is the purpose of SOC 1 and who needs to follow it?',\n",
        "]\n",
        "\n",
        "# testing the pre-trained model\n",
        "print(\"Cybersecurity question answering before fine-tuning: \\n\")\n",
        "for question in cybersecurity_questions:\n",
        "    answer = question_answer(question, model)\n",
        "    print(f\"Question: {question}\\nAnswer: {answer}\\n\")\n",
        "\n",
        "print(\"------------------------------------------------\")\n",
        "\n",
        "print(\"Security compliance question answering before fine-tuning: \\n \")\n",
        "for question in security_compliance_questions:\n",
        "    answer = question_answer(question, model)\n",
        "    print(f\"Question: {question}\\nAnswer: {answer}\\n\")"
      ],
      "metadata": {
        "colab": {
          "base_uri": "https://localhost:8080/"
        },
        "id": "0wU3008U9U_a",
        "outputId": "58b34267-c6f3-41a2-84e0-d15717f50e4f"
      },
      "execution_count": null,
      "outputs": [
        {
          "output_type": "stream",
          "name": "stdout",
          "text": [
            "Cybersecurity question answering before fine-tuning: \n",
            "\n",
            "Question: What is phishing?\n",
            "Answer: phishing is a method of detecting incoming data from originating locations.\n",
            "\n",
            "Question: How does ransomware spread?\n",
            "Answer: Viruses spread through the internet.\n",
            "\n",
            "Question: What role does a firewall play in network security?\n",
            "Answer: firewall\n",
            "\n",
            "Question: What is a Man-in-the-Middle (MitM) attack and how can encrypted communications prevent it?\n",
            "Answer: a smear of resemblance\n",
            "\n",
            "Question: What is penetration testing and why is it important for identifying security vulnerabilities?\n",
            "Answer: Using a penetration test is based on the vulnerability of the user to unauthorized access to the data.\n",
            "\n",
            "------------------------------------------------\n",
            "Security compliance question answering before fine-tuning: \n",
            " \n",
            "Question: What is security compliance?\n",
            "Answer: Security compliance is the ability to protect the public and the private in the event of a breach of security.\n",
            "\n",
            "Question: What is the purpose of risk management in security?\n",
            "Answer: to protect the interests of the public\n",
            "\n",
            "Question: What are the key components of GDPR compliance?\n",
            "Answer: GDPR compliance\n",
            "\n",
            "Question: What are the main principles of the NIST cybersecurity framework?\n",
            "Answer: a cybersecurity framework\n",
            "\n",
            "Question: What is the purpose of SOC 1 and who needs to follow it?\n",
            "Answer: a scathing and resonant stance\n",
            "\n"
          ]
        }
      ]
    },
    {
      "cell_type": "code",
      "source": [
        "# create a cybersecurity and security compliance knowledge base as a CSV file\n",
        "def create_cybersecurity_csv():\n",
        "    \"\"\"Create a CSV file with cybersecurity and security compliances\"\"\"\n",
        "\n",
        "    cybersecurity_data = [\n",
        "        [\"Phishing\", \"A social engineering attack where attackers send fraudulent messages to trick individuals into revealing sensitive information or installing malware. Common indicators include urgent language, suspicious links, and requests for personal information.\"],\n",
        "        [\"Ransomware\", \"A type of malicious software that encrypts a victim's files and demands payment for the decryption key. Ransomware often spreads through phishing emails, malicious downloads, or exploiting system vulnerabilities.\"],\n",
        "        [\"Two-Factor Authentication (2FA)\", \"A security method that requires users to provide two different authentication factors: something they know (password) and something they have (mobile device) or something they are (biometric). This significantly increases account security.\"],\n",
        "        [\"SQL Injection\", \"A code injection technique that exploits vulnerabilities in database-driven websites. Attackers insert malicious SQL statements into entry fields, allowing them to access, modify, or delete data from the database.\"],\n",
        "        [\"Man-in-the-Middle Attack\", \"An attack where the attacker secretly intercepts and possibly alters communications between two parties who believe they're directly communicating with each other. It can be used to steal login credentials or personal information.\"],\n",
        "        [\"VPN\", \"Virtual Private Network creates an encrypted connection over a less secure network. VPNs provide privacy, anonymity, and security by creating a private network from a public internet connection.\"],\n",
        "        [\"Social Engineering\", \"Psychological manipulation techniques that trick people into making security mistakes or giving away sensitive information. Types include phishing, pretexting, baiting, and tailgating.\"],\n",
        "        [\"Firewall\", \"A network security device that monitors and filters incoming and outgoing network traffic based on an organization's security policies. Firewalls establish a barrier between trusted internal networks and untrusted external networks.\"],\n",
        "        [\"Encryption\", \"The process of encoding information so that only authorized parties can access it. Encryption uses mathematical algorithms to convert data into a coded format that appears random without the decryption key.\"],\n",
        "        [\"Malware\", \"Short for malicious software, it refers to any software designed to harm or exploit devices, services, or networks. Types include viruses, trojans, worms, ransomware, spyware, and adware.\"],\n",
        "        [\"Brute Force Attack\", \"A method of trial and error used to decode encrypted data such as passwords by systematically checking all possible combinations until the correct one is found. Protection includes complex passwords and account lockouts.\"],\n",
        "        [\"Penetration Testing\", \"An authorized simulated attack on a computer system to evaluate security. Penetration testers use the same tools and techniques as attackers to find and demonstrate business impacts of vulnerabilities.\"],\n",
        "        [\"Cross-Site Scripting (XSS)\", \"A web security vulnerability that allows attackers to inject client-side scripts into web pages viewed by other users. This can be used to bypass access controls and impersonate users.\"],\n",
        "        [\"Spyware\", \"Software that secretly gathers user information through their internet connection without their knowledge, usually for advertising purposes. It can track internet activity, harvest data, and monitor keystrokes.\"],\n",
        "        [\"Hashing\", \"The process of converting data of any size into a fixed-size string. Unlike encryption, hashing is one-way and cannot be reversed. It's commonly used to verify data integrity and store passwords securely.\"],\n",
        "        [\"Botnet\", \"A network of infected computers controlled remotely by attackers, often used for DDoS attacks or spam distribution. Users are typically unaware their computer is part of a botnet.\"],\n",
        "        [\"Cyber Threat Intelligence\", \"Evidence-based knowledge about existing or emerging threats that helps organizations make informed security decisions. It includes context, mechanisms, indicators, implications, and action-oriented advice.\"],\n",
        "        [\"CSRF Attack\", \"Cross-Site Request Forgery tricks users into submitting unwanted requests to websites where they're authenticated. This can force users to execute actions without their consent or knowledge.\"],\n",
        "        [\"Zero Trust Security\", \"A security model that requires strict identity verification for every person and device trying to access resources, regardless of whether they're inside or outside the network perimeter.\"],\n",
        "        [\"APT\", \"Advanced Persistent Threat is a prolonged, targeted cyber attack where an attacker establishes an undetected presence in a network to steal sensitive data. APTs are typically conducted by nation-states or state-sponsored groups.\"],\n",
        "        [\"Security Misconfigurations\", \"Improperly configured security settings that leave systems vulnerable. Common examples include default credentials, error messages revealing too much information, and unnecessary features enabled.\"],\n",
        "        [\"Privilege Escalation\", \"A type of attack that exploits bugs, design flaws, or configuration oversights to gain elevated access to resources that are normally protected. It allows attackers to gain higher-level permissions than intended.\"],\n",
        "        [\"Supply Chain Attack\", \"A cyber attack that targets less-secure elements in the supply chain, such as third-party vendors or software. The SolarWinds attack of 2020 is a notable example that affected thousands of organizations.\"],\n",
        "        [\"Defense in Depth\", \"A cybersecurity approach that uses multiple layers of security controls throughout a system. If one defense fails, others still provide protection, making it harder for attackers to reach valuable assets.\"],\n",
        "        [\"Digital Forensics\", \"The process of uncovering and interpreting electronic data to preserve evidence in a way that is suitable for presentation in a court of law. Used to investigate cyber crimes and security incidents.\"],\n",
        "        [\"Fileless Malware\", \"A type of malicious software that exists exclusively in a computer's RAM, making it difficult to detect using traditional security tools that scan for files on disk. It often leverages legitimate system tools.\"],\n",
        "        [\"SIEM\", \"Security Information and Event Management systems combine security information management and security event management. They provide real-time analysis of security alerts generated by applications and network hardware.\"]\n",
        "    ]\n",
        "    security_compliance_data = [\n",
        "      [\"GDPR\", \"General Data Protection Regulation, a regulation in EU law on data protection and privacy. It sets guidelines for the collection, storage, and processing of personal data within the EU and addresses the transfer of personal data outside the EU.\"],\n",
        "      [\"ISO/IEC 27001\", \"An international standard for information security management. It provides a framework for managing and securing information, ensuring the confidentiality, integrity, and availability of data within an organization.\"],\n",
        "      [\"HIPAA\", \"The Health Insurance Portability and Accountability Act, a US law that sets standards for protecting sensitive patient data in the healthcare industry. It outlines security and privacy regulations regarding the storage and transmission of healthcare data.\"],\n",
        "      [\"PCI-DSS\", \"The Payment Card Industry Data Security Standard is a set of security standards designed to ensure that all companies that process, store, or transmit credit card information maintain a secure environment.\"],\n",
        "      [\"NIST Cybersecurity Framework\", \"The National Institute of Standards and Technology Cybersecurity Framework provides a set of guidelines for improving the security of critical infrastructure. It includes five core functions: Identify, Protect, Detect, Respond, and Recover.\"],\n",
        "      [\"SOC 2\", \"System and Organization Controls 2 is a framework for managing and securing sensitive customer data. It focuses on the five key areas of security, availability, processing integrity, confidentiality, and privacy.\"],\n",
        "      [\"FISMA\", \"The Federal Information Security Management Act requires federal agencies and contractors to secure information systems. It mandates risk assessments, security planning, and implementation of security controls.\"],\n",
        "      [\"CMMC\", \"The Cybersecurity Maturity Model Certification is a cybersecurity framework specifically designed for Department of Defense contractors. It assesses the maturity and security of an organization’s practices to handle controlled unclassified information.\"],\n",
        "      [\"NIST 800-53\", \"A set of security and privacy controls developed by NIST for federal information systems in the United States. It provides a catalog of controls designed to protect the confidentiality, integrity, and availability of information systems.\"],\n",
        "      [\"SOX\", \"The Sarbanes-Oxley Act sets standards for all U.S. public company boards, management, and public accounting firms. It focuses on financial recordkeeping, internal controls, and corporate governance to prevent fraud.\"],\n",
        "      [\"CIS Controls\", \"The Center for Internet Security Critical Security Controls is a set of best practices to defend against cyber threats. It includes 20 prioritized actions that help organizations improve their cybersecurity posture.\"],\n",
        "      [\"SOC 1\", \"System and Organization Controls 1 is a framework designed for service organizations that provide financial reporting services. It focuses on ensuring that financial data handling by third-party services complies with necessary regulations.\"],\n",
        "      [\"GDPR Data Subject Rights\", \"Under the GDPR, individuals have the right to access, rectify, erase, and restrict the processing of their personal data. These rights also include the ability to object to processing and request data portability.\"],\n",
        "      [\"FCRA\", \"The Fair Credit Reporting Act regulates the collection, use, and dissemination of consumer credit information. It mandates the accuracy and privacy of credit information and requires consent for credit reports.\"],\n",
        "      [\"NIST 800-171\", \"NIST 800-171 provides guidelines for securing Controlled Unclassified Information (CUI) in non-federal systems and organizations. It covers 14 security control families, such as access control, incident response, and system and communications protection.\"]\n",
        "    ]\n",
        "\n",
        "    # Create DataFrame and save to CSV\n",
        "    df = pd.DataFrame(cybersecurity_data, columns=['Concept', 'Description'])\n",
        "    df.to_csv('cybersecurity_knowledge.csv', index=False)\n",
        "    print(f\"Created CSV with {len(df)} cybersecurity concepts\")\n",
        "    return df"
      ],
      "metadata": {
        "id": "7X9Yf2Fd8pOy"
      },
      "execution_count": null,
      "outputs": []
    },
    {
      "cell_type": "code",
      "source": [
        "df = create_cybersecurity_csv()\n",
        "\n",
        "df.head()"
      ],
      "metadata": {
        "colab": {
          "base_uri": "https://localhost:8080/",
          "height": 224
        },
        "id": "ZI7e_RUsG8ey",
        "outputId": "c035cdcd-963a-4243-aff9-96adb75c74c7"
      },
      "execution_count": null,
      "outputs": [
        {
          "output_type": "stream",
          "name": "stdout",
          "text": [
            "Created CSV with 27 cybersecurity concepts\n"
          ]
        },
        {
          "output_type": "execute_result",
          "data": {
            "text/plain": [
              "                           Concept  \\\n",
              "0                         Phishing   \n",
              "1                       Ransomware   \n",
              "2  Two-Factor Authentication (2FA)   \n",
              "3                    SQL Injection   \n",
              "4         Man-in-the-Middle Attack   \n",
              "\n",
              "                                         Description  \n",
              "0  A social engineering attack where attackers se...  \n",
              "1  A type of malicious software that encrypts a v...  \n",
              "2  A security method that requires users to provi...  \n",
              "3  A code injection technique that exploits vulne...  \n",
              "4  An attack where the attacker secretly intercep...  "
            ],
            "text/html": [
              "\n",
              "  <div id=\"df-9e81bedb-3a8c-4fb5-a8ba-7294a3b2513c\" class=\"colab-df-container\">\n",
              "    <div>\n",
              "<style scoped>\n",
              "    .dataframe tbody tr th:only-of-type {\n",
              "        vertical-align: middle;\n",
              "    }\n",
              "\n",
              "    .dataframe tbody tr th {\n",
              "        vertical-align: top;\n",
              "    }\n",
              "\n",
              "    .dataframe thead th {\n",
              "        text-align: right;\n",
              "    }\n",
              "</style>\n",
              "<table border=\"1\" class=\"dataframe\">\n",
              "  <thead>\n",
              "    <tr style=\"text-align: right;\">\n",
              "      <th></th>\n",
              "      <th>Concept</th>\n",
              "      <th>Description</th>\n",
              "    </tr>\n",
              "  </thead>\n",
              "  <tbody>\n",
              "    <tr>\n",
              "      <th>0</th>\n",
              "      <td>Phishing</td>\n",
              "      <td>A social engineering attack where attackers se...</td>\n",
              "    </tr>\n",
              "    <tr>\n",
              "      <th>1</th>\n",
              "      <td>Ransomware</td>\n",
              "      <td>A type of malicious software that encrypts a v...</td>\n",
              "    </tr>\n",
              "    <tr>\n",
              "      <th>2</th>\n",
              "      <td>Two-Factor Authentication (2FA)</td>\n",
              "      <td>A security method that requires users to provi...</td>\n",
              "    </tr>\n",
              "    <tr>\n",
              "      <th>3</th>\n",
              "      <td>SQL Injection</td>\n",
              "      <td>A code injection technique that exploits vulne...</td>\n",
              "    </tr>\n",
              "    <tr>\n",
              "      <th>4</th>\n",
              "      <td>Man-in-the-Middle Attack</td>\n",
              "      <td>An attack where the attacker secretly intercep...</td>\n",
              "    </tr>\n",
              "  </tbody>\n",
              "</table>\n",
              "</div>\n",
              "    <div class=\"colab-df-buttons\">\n",
              "\n",
              "  <div class=\"colab-df-container\">\n",
              "    <button class=\"colab-df-convert\" onclick=\"convertToInteractive('df-9e81bedb-3a8c-4fb5-a8ba-7294a3b2513c')\"\n",
              "            title=\"Convert this dataframe to an interactive table.\"\n",
              "            style=\"display:none;\">\n",
              "\n",
              "  <svg xmlns=\"http://www.w3.org/2000/svg\" height=\"24px\" viewBox=\"0 -960 960 960\">\n",
              "    <path d=\"M120-120v-720h720v720H120Zm60-500h600v-160H180v160Zm220 220h160v-160H400v160Zm0 220h160v-160H400v160ZM180-400h160v-160H180v160Zm440 0h160v-160H620v160ZM180-180h160v-160H180v160Zm440 0h160v-160H620v160Z\"/>\n",
              "  </svg>\n",
              "    </button>\n",
              "\n",
              "  <style>\n",
              "    .colab-df-container {\n",
              "      display:flex;\n",
              "      gap: 12px;\n",
              "    }\n",
              "\n",
              "    .colab-df-convert {\n",
              "      background-color: #E8F0FE;\n",
              "      border: none;\n",
              "      border-radius: 50%;\n",
              "      cursor: pointer;\n",
              "      display: none;\n",
              "      fill: #1967D2;\n",
              "      height: 32px;\n",
              "      padding: 0 0 0 0;\n",
              "      width: 32px;\n",
              "    }\n",
              "\n",
              "    .colab-df-convert:hover {\n",
              "      background-color: #E2EBFA;\n",
              "      box-shadow: 0px 1px 2px rgba(60, 64, 67, 0.3), 0px 1px 3px 1px rgba(60, 64, 67, 0.15);\n",
              "      fill: #174EA6;\n",
              "    }\n",
              "\n",
              "    .colab-df-buttons div {\n",
              "      margin-bottom: 4px;\n",
              "    }\n",
              "\n",
              "    [theme=dark] .colab-df-convert {\n",
              "      background-color: #3B4455;\n",
              "      fill: #D2E3FC;\n",
              "    }\n",
              "\n",
              "    [theme=dark] .colab-df-convert:hover {\n",
              "      background-color: #434B5C;\n",
              "      box-shadow: 0px 1px 3px 1px rgba(0, 0, 0, 0.15);\n",
              "      filter: drop-shadow(0px 1px 2px rgba(0, 0, 0, 0.3));\n",
              "      fill: #FFFFFF;\n",
              "    }\n",
              "  </style>\n",
              "\n",
              "    <script>\n",
              "      const buttonEl =\n",
              "        document.querySelector('#df-9e81bedb-3a8c-4fb5-a8ba-7294a3b2513c button.colab-df-convert');\n",
              "      buttonEl.style.display =\n",
              "        google.colab.kernel.accessAllowed ? 'block' : 'none';\n",
              "\n",
              "      async function convertToInteractive(key) {\n",
              "        const element = document.querySelector('#df-9e81bedb-3a8c-4fb5-a8ba-7294a3b2513c');\n",
              "        const dataTable =\n",
              "          await google.colab.kernel.invokeFunction('convertToInteractive',\n",
              "                                                    [key], {});\n",
              "        if (!dataTable) return;\n",
              "\n",
              "        const docLinkHtml = 'Like what you see? Visit the ' +\n",
              "          '<a target=\"_blank\" href=https://colab.research.google.com/notebooks/data_table.ipynb>data table notebook</a>'\n",
              "          + ' to learn more about interactive tables.';\n",
              "        element.innerHTML = '';\n",
              "        dataTable['output_type'] = 'display_data';\n",
              "        await google.colab.output.renderOutput(dataTable, element);\n",
              "        const docLink = document.createElement('div');\n",
              "        docLink.innerHTML = docLinkHtml;\n",
              "        element.appendChild(docLink);\n",
              "      }\n",
              "    </script>\n",
              "  </div>\n",
              "\n",
              "\n",
              "    <div id=\"df-e822ab91-4039-4fff-876e-98ce1ce26685\">\n",
              "      <button class=\"colab-df-quickchart\" onclick=\"quickchart('df-e822ab91-4039-4fff-876e-98ce1ce26685')\"\n",
              "                title=\"Suggest charts\"\n",
              "                style=\"display:none;\">\n",
              "\n",
              "<svg xmlns=\"http://www.w3.org/2000/svg\" height=\"24px\"viewBox=\"0 0 24 24\"\n",
              "     width=\"24px\">\n",
              "    <g>\n",
              "        <path d=\"M19 3H5c-1.1 0-2 .9-2 2v14c0 1.1.9 2 2 2h14c1.1 0 2-.9 2-2V5c0-1.1-.9-2-2-2zM9 17H7v-7h2v7zm4 0h-2V7h2v10zm4 0h-2v-4h2v4z\"/>\n",
              "    </g>\n",
              "</svg>\n",
              "      </button>\n",
              "\n",
              "<style>\n",
              "  .colab-df-quickchart {\n",
              "      --bg-color: #E8F0FE;\n",
              "      --fill-color: #1967D2;\n",
              "      --hover-bg-color: #E2EBFA;\n",
              "      --hover-fill-color: #174EA6;\n",
              "      --disabled-fill-color: #AAA;\n",
              "      --disabled-bg-color: #DDD;\n",
              "  }\n",
              "\n",
              "  [theme=dark] .colab-df-quickchart {\n",
              "      --bg-color: #3B4455;\n",
              "      --fill-color: #D2E3FC;\n",
              "      --hover-bg-color: #434B5C;\n",
              "      --hover-fill-color: #FFFFFF;\n",
              "      --disabled-bg-color: #3B4455;\n",
              "      --disabled-fill-color: #666;\n",
              "  }\n",
              "\n",
              "  .colab-df-quickchart {\n",
              "    background-color: var(--bg-color);\n",
              "    border: none;\n",
              "    border-radius: 50%;\n",
              "    cursor: pointer;\n",
              "    display: none;\n",
              "    fill: var(--fill-color);\n",
              "    height: 32px;\n",
              "    padding: 0;\n",
              "    width: 32px;\n",
              "  }\n",
              "\n",
              "  .colab-df-quickchart:hover {\n",
              "    background-color: var(--hover-bg-color);\n",
              "    box-shadow: 0 1px 2px rgba(60, 64, 67, 0.3), 0 1px 3px 1px rgba(60, 64, 67, 0.15);\n",
              "    fill: var(--button-hover-fill-color);\n",
              "  }\n",
              "\n",
              "  .colab-df-quickchart-complete:disabled,\n",
              "  .colab-df-quickchart-complete:disabled:hover {\n",
              "    background-color: var(--disabled-bg-color);\n",
              "    fill: var(--disabled-fill-color);\n",
              "    box-shadow: none;\n",
              "  }\n",
              "\n",
              "  .colab-df-spinner {\n",
              "    border: 2px solid var(--fill-color);\n",
              "    border-color: transparent;\n",
              "    border-bottom-color: var(--fill-color);\n",
              "    animation:\n",
              "      spin 1s steps(1) infinite;\n",
              "  }\n",
              "\n",
              "  @keyframes spin {\n",
              "    0% {\n",
              "      border-color: transparent;\n",
              "      border-bottom-color: var(--fill-color);\n",
              "      border-left-color: var(--fill-color);\n",
              "    }\n",
              "    20% {\n",
              "      border-color: transparent;\n",
              "      border-left-color: var(--fill-color);\n",
              "      border-top-color: var(--fill-color);\n",
              "    }\n",
              "    30% {\n",
              "      border-color: transparent;\n",
              "      border-left-color: var(--fill-color);\n",
              "      border-top-color: var(--fill-color);\n",
              "      border-right-color: var(--fill-color);\n",
              "    }\n",
              "    40% {\n",
              "      border-color: transparent;\n",
              "      border-right-color: var(--fill-color);\n",
              "      border-top-color: var(--fill-color);\n",
              "    }\n",
              "    60% {\n",
              "      border-color: transparent;\n",
              "      border-right-color: var(--fill-color);\n",
              "    }\n",
              "    80% {\n",
              "      border-color: transparent;\n",
              "      border-right-color: var(--fill-color);\n",
              "      border-bottom-color: var(--fill-color);\n",
              "    }\n",
              "    90% {\n",
              "      border-color: transparent;\n",
              "      border-bottom-color: var(--fill-color);\n",
              "    }\n",
              "  }\n",
              "</style>\n",
              "\n",
              "      <script>\n",
              "        async function quickchart(key) {\n",
              "          const quickchartButtonEl =\n",
              "            document.querySelector('#' + key + ' button');\n",
              "          quickchartButtonEl.disabled = true;  // To prevent multiple clicks.\n",
              "          quickchartButtonEl.classList.add('colab-df-spinner');\n",
              "          try {\n",
              "            const charts = await google.colab.kernel.invokeFunction(\n",
              "                'suggestCharts', [key], {});\n",
              "          } catch (error) {\n",
              "            console.error('Error during call to suggestCharts:', error);\n",
              "          }\n",
              "          quickchartButtonEl.classList.remove('colab-df-spinner');\n",
              "          quickchartButtonEl.classList.add('colab-df-quickchart-complete');\n",
              "        }\n",
              "        (() => {\n",
              "          let quickchartButtonEl =\n",
              "            document.querySelector('#df-e822ab91-4039-4fff-876e-98ce1ce26685 button');\n",
              "          quickchartButtonEl.style.display =\n",
              "            google.colab.kernel.accessAllowed ? 'block' : 'none';\n",
              "        })();\n",
              "      </script>\n",
              "    </div>\n",
              "\n",
              "    </div>\n",
              "  </div>\n"
            ],
            "application/vnd.google.colaboratory.intrinsic+json": {
              "type": "dataframe",
              "variable_name": "df",
              "summary": "{\n  \"name\": \"df\",\n  \"rows\": 27,\n  \"fields\": [\n    {\n      \"column\": \"Concept\",\n      \"properties\": {\n        \"dtype\": \"string\",\n        \"num_unique_values\": 27,\n        \"samples\": [\n          \"Encryption\",\n          \"Spyware\",\n          \"Malware\"\n        ],\n        \"semantic_type\": \"\",\n        \"description\": \"\"\n      }\n    },\n    {\n      \"column\": \"Description\",\n      \"properties\": {\n        \"dtype\": \"string\",\n        \"num_unique_values\": 27,\n        \"samples\": [\n          \"The process of encoding information so that only authorized parties can access it. Encryption uses mathematical algorithms to convert data into a coded format that appears random without the decryption key.\",\n          \"Software that secretly gathers user information through their internet connection without their knowledge, usually for advertising purposes. It can track internet activity, harvest data, and monitor keystrokes.\",\n          \"Short for malicious software, it refers to any software designed to harm or exploit devices, services, or networks. Types include viruses, trojans, worms, ransomware, spyware, and adware.\"\n        ],\n        \"semantic_type\": \"\",\n        \"description\": \"\"\n      }\n    }\n  ]\n}"
            }
          },
          "metadata": {},
          "execution_count": 107
        }
      ]
    },
    {
      "cell_type": "code",
      "source": [
        "df.tail()"
      ],
      "metadata": {
        "colab": {
          "base_uri": "https://localhost:8080/",
          "height": 206
        },
        "id": "vVunXcmpG-bi",
        "outputId": "919b82f0-8357-44af-f19b-7b451b70473b"
      },
      "execution_count": null,
      "outputs": [
        {
          "output_type": "execute_result",
          "data": {
            "text/plain": [
              "                Concept                                        Description\n",
              "22  Supply Chain Attack  A cyber attack that targets less-secure elemen...\n",
              "23     Defense in Depth  A cybersecurity approach that uses multiple la...\n",
              "24    Digital Forensics  The process of uncovering and interpreting ele...\n",
              "25     Fileless Malware  A type of malicious software that exists exclu...\n",
              "26                 SIEM  Security Information and Event Management syst..."
            ],
            "text/html": [
              "\n",
              "  <div id=\"df-4c0cfda5-5b9d-47ab-987c-01fb6aeb99ab\" class=\"colab-df-container\">\n",
              "    <div>\n",
              "<style scoped>\n",
              "    .dataframe tbody tr th:only-of-type {\n",
              "        vertical-align: middle;\n",
              "    }\n",
              "\n",
              "    .dataframe tbody tr th {\n",
              "        vertical-align: top;\n",
              "    }\n",
              "\n",
              "    .dataframe thead th {\n",
              "        text-align: right;\n",
              "    }\n",
              "</style>\n",
              "<table border=\"1\" class=\"dataframe\">\n",
              "  <thead>\n",
              "    <tr style=\"text-align: right;\">\n",
              "      <th></th>\n",
              "      <th>Concept</th>\n",
              "      <th>Description</th>\n",
              "    </tr>\n",
              "  </thead>\n",
              "  <tbody>\n",
              "    <tr>\n",
              "      <th>22</th>\n",
              "      <td>Supply Chain Attack</td>\n",
              "      <td>A cyber attack that targets less-secure elemen...</td>\n",
              "    </tr>\n",
              "    <tr>\n",
              "      <th>23</th>\n",
              "      <td>Defense in Depth</td>\n",
              "      <td>A cybersecurity approach that uses multiple la...</td>\n",
              "    </tr>\n",
              "    <tr>\n",
              "      <th>24</th>\n",
              "      <td>Digital Forensics</td>\n",
              "      <td>The process of uncovering and interpreting ele...</td>\n",
              "    </tr>\n",
              "    <tr>\n",
              "      <th>25</th>\n",
              "      <td>Fileless Malware</td>\n",
              "      <td>A type of malicious software that exists exclu...</td>\n",
              "    </tr>\n",
              "    <tr>\n",
              "      <th>26</th>\n",
              "      <td>SIEM</td>\n",
              "      <td>Security Information and Event Management syst...</td>\n",
              "    </tr>\n",
              "  </tbody>\n",
              "</table>\n",
              "</div>\n",
              "    <div class=\"colab-df-buttons\">\n",
              "\n",
              "  <div class=\"colab-df-container\">\n",
              "    <button class=\"colab-df-convert\" onclick=\"convertToInteractive('df-4c0cfda5-5b9d-47ab-987c-01fb6aeb99ab')\"\n",
              "            title=\"Convert this dataframe to an interactive table.\"\n",
              "            style=\"display:none;\">\n",
              "\n",
              "  <svg xmlns=\"http://www.w3.org/2000/svg\" height=\"24px\" viewBox=\"0 -960 960 960\">\n",
              "    <path d=\"M120-120v-720h720v720H120Zm60-500h600v-160H180v160Zm220 220h160v-160H400v160Zm0 220h160v-160H400v160ZM180-400h160v-160H180v160Zm440 0h160v-160H620v160ZM180-180h160v-160H180v160Zm440 0h160v-160H620v160Z\"/>\n",
              "  </svg>\n",
              "    </button>\n",
              "\n",
              "  <style>\n",
              "    .colab-df-container {\n",
              "      display:flex;\n",
              "      gap: 12px;\n",
              "    }\n",
              "\n",
              "    .colab-df-convert {\n",
              "      background-color: #E8F0FE;\n",
              "      border: none;\n",
              "      border-radius: 50%;\n",
              "      cursor: pointer;\n",
              "      display: none;\n",
              "      fill: #1967D2;\n",
              "      height: 32px;\n",
              "      padding: 0 0 0 0;\n",
              "      width: 32px;\n",
              "    }\n",
              "\n",
              "    .colab-df-convert:hover {\n",
              "      background-color: #E2EBFA;\n",
              "      box-shadow: 0px 1px 2px rgba(60, 64, 67, 0.3), 0px 1px 3px 1px rgba(60, 64, 67, 0.15);\n",
              "      fill: #174EA6;\n",
              "    }\n",
              "\n",
              "    .colab-df-buttons div {\n",
              "      margin-bottom: 4px;\n",
              "    }\n",
              "\n",
              "    [theme=dark] .colab-df-convert {\n",
              "      background-color: #3B4455;\n",
              "      fill: #D2E3FC;\n",
              "    }\n",
              "\n",
              "    [theme=dark] .colab-df-convert:hover {\n",
              "      background-color: #434B5C;\n",
              "      box-shadow: 0px 1px 3px 1px rgba(0, 0, 0, 0.15);\n",
              "      filter: drop-shadow(0px 1px 2px rgba(0, 0, 0, 0.3));\n",
              "      fill: #FFFFFF;\n",
              "    }\n",
              "  </style>\n",
              "\n",
              "    <script>\n",
              "      const buttonEl =\n",
              "        document.querySelector('#df-4c0cfda5-5b9d-47ab-987c-01fb6aeb99ab button.colab-df-convert');\n",
              "      buttonEl.style.display =\n",
              "        google.colab.kernel.accessAllowed ? 'block' : 'none';\n",
              "\n",
              "      async function convertToInteractive(key) {\n",
              "        const element = document.querySelector('#df-4c0cfda5-5b9d-47ab-987c-01fb6aeb99ab');\n",
              "        const dataTable =\n",
              "          await google.colab.kernel.invokeFunction('convertToInteractive',\n",
              "                                                    [key], {});\n",
              "        if (!dataTable) return;\n",
              "\n",
              "        const docLinkHtml = 'Like what you see? Visit the ' +\n",
              "          '<a target=\"_blank\" href=https://colab.research.google.com/notebooks/data_table.ipynb>data table notebook</a>'\n",
              "          + ' to learn more about interactive tables.';\n",
              "        element.innerHTML = '';\n",
              "        dataTable['output_type'] = 'display_data';\n",
              "        await google.colab.output.renderOutput(dataTable, element);\n",
              "        const docLink = document.createElement('div');\n",
              "        docLink.innerHTML = docLinkHtml;\n",
              "        element.appendChild(docLink);\n",
              "      }\n",
              "    </script>\n",
              "  </div>\n",
              "\n",
              "\n",
              "    <div id=\"df-b9b46907-2c61-4339-a112-cc5b823cdcd8\">\n",
              "      <button class=\"colab-df-quickchart\" onclick=\"quickchart('df-b9b46907-2c61-4339-a112-cc5b823cdcd8')\"\n",
              "                title=\"Suggest charts\"\n",
              "                style=\"display:none;\">\n",
              "\n",
              "<svg xmlns=\"http://www.w3.org/2000/svg\" height=\"24px\"viewBox=\"0 0 24 24\"\n",
              "     width=\"24px\">\n",
              "    <g>\n",
              "        <path d=\"M19 3H5c-1.1 0-2 .9-2 2v14c0 1.1.9 2 2 2h14c1.1 0 2-.9 2-2V5c0-1.1-.9-2-2-2zM9 17H7v-7h2v7zm4 0h-2V7h2v10zm4 0h-2v-4h2v4z\"/>\n",
              "    </g>\n",
              "</svg>\n",
              "      </button>\n",
              "\n",
              "<style>\n",
              "  .colab-df-quickchart {\n",
              "      --bg-color: #E8F0FE;\n",
              "      --fill-color: #1967D2;\n",
              "      --hover-bg-color: #E2EBFA;\n",
              "      --hover-fill-color: #174EA6;\n",
              "      --disabled-fill-color: #AAA;\n",
              "      --disabled-bg-color: #DDD;\n",
              "  }\n",
              "\n",
              "  [theme=dark] .colab-df-quickchart {\n",
              "      --bg-color: #3B4455;\n",
              "      --fill-color: #D2E3FC;\n",
              "      --hover-bg-color: #434B5C;\n",
              "      --hover-fill-color: #FFFFFF;\n",
              "      --disabled-bg-color: #3B4455;\n",
              "      --disabled-fill-color: #666;\n",
              "  }\n",
              "\n",
              "  .colab-df-quickchart {\n",
              "    background-color: var(--bg-color);\n",
              "    border: none;\n",
              "    border-radius: 50%;\n",
              "    cursor: pointer;\n",
              "    display: none;\n",
              "    fill: var(--fill-color);\n",
              "    height: 32px;\n",
              "    padding: 0;\n",
              "    width: 32px;\n",
              "  }\n",
              "\n",
              "  .colab-df-quickchart:hover {\n",
              "    background-color: var(--hover-bg-color);\n",
              "    box-shadow: 0 1px 2px rgba(60, 64, 67, 0.3), 0 1px 3px 1px rgba(60, 64, 67, 0.15);\n",
              "    fill: var(--button-hover-fill-color);\n",
              "  }\n",
              "\n",
              "  .colab-df-quickchart-complete:disabled,\n",
              "  .colab-df-quickchart-complete:disabled:hover {\n",
              "    background-color: var(--disabled-bg-color);\n",
              "    fill: var(--disabled-fill-color);\n",
              "    box-shadow: none;\n",
              "  }\n",
              "\n",
              "  .colab-df-spinner {\n",
              "    border: 2px solid var(--fill-color);\n",
              "    border-color: transparent;\n",
              "    border-bottom-color: var(--fill-color);\n",
              "    animation:\n",
              "      spin 1s steps(1) infinite;\n",
              "  }\n",
              "\n",
              "  @keyframes spin {\n",
              "    0% {\n",
              "      border-color: transparent;\n",
              "      border-bottom-color: var(--fill-color);\n",
              "      border-left-color: var(--fill-color);\n",
              "    }\n",
              "    20% {\n",
              "      border-color: transparent;\n",
              "      border-left-color: var(--fill-color);\n",
              "      border-top-color: var(--fill-color);\n",
              "    }\n",
              "    30% {\n",
              "      border-color: transparent;\n",
              "      border-left-color: var(--fill-color);\n",
              "      border-top-color: var(--fill-color);\n",
              "      border-right-color: var(--fill-color);\n",
              "    }\n",
              "    40% {\n",
              "      border-color: transparent;\n",
              "      border-right-color: var(--fill-color);\n",
              "      border-top-color: var(--fill-color);\n",
              "    }\n",
              "    60% {\n",
              "      border-color: transparent;\n",
              "      border-right-color: var(--fill-color);\n",
              "    }\n",
              "    80% {\n",
              "      border-color: transparent;\n",
              "      border-right-color: var(--fill-color);\n",
              "      border-bottom-color: var(--fill-color);\n",
              "    }\n",
              "    90% {\n",
              "      border-color: transparent;\n",
              "      border-bottom-color: var(--fill-color);\n",
              "    }\n",
              "  }\n",
              "</style>\n",
              "\n",
              "      <script>\n",
              "        async function quickchart(key) {\n",
              "          const quickchartButtonEl =\n",
              "            document.querySelector('#' + key + ' button');\n",
              "          quickchartButtonEl.disabled = true;  // To prevent multiple clicks.\n",
              "          quickchartButtonEl.classList.add('colab-df-spinner');\n",
              "          try {\n",
              "            const charts = await google.colab.kernel.invokeFunction(\n",
              "                'suggestCharts', [key], {});\n",
              "          } catch (error) {\n",
              "            console.error('Error during call to suggestCharts:', error);\n",
              "          }\n",
              "          quickchartButtonEl.classList.remove('colab-df-spinner');\n",
              "          quickchartButtonEl.classList.add('colab-df-quickchart-complete');\n",
              "        }\n",
              "        (() => {\n",
              "          let quickchartButtonEl =\n",
              "            document.querySelector('#df-b9b46907-2c61-4339-a112-cc5b823cdcd8 button');\n",
              "          quickchartButtonEl.style.display =\n",
              "            google.colab.kernel.accessAllowed ? 'block' : 'none';\n",
              "        })();\n",
              "      </script>\n",
              "    </div>\n",
              "\n",
              "    </div>\n",
              "  </div>\n"
            ],
            "application/vnd.google.colaboratory.intrinsic+json": {
              "type": "dataframe",
              "summary": "{\n  \"name\": \"df\",\n  \"rows\": 5,\n  \"fields\": [\n    {\n      \"column\": \"Concept\",\n      \"properties\": {\n        \"dtype\": \"string\",\n        \"num_unique_values\": 5,\n        \"samples\": [\n          \"Defense in Depth\",\n          \"SIEM\",\n          \"Digital Forensics\"\n        ],\n        \"semantic_type\": \"\",\n        \"description\": \"\"\n      }\n    },\n    {\n      \"column\": \"Description\",\n      \"properties\": {\n        \"dtype\": \"string\",\n        \"num_unique_values\": 5,\n        \"samples\": [\n          \"A cybersecurity approach that uses multiple layers of security controls throughout a system. If one defense fails, others still provide protection, making it harder for attackers to reach valuable assets.\",\n          \"Security Information and Event Management systems combine security information management and security event management. They provide real-time analysis of security alerts generated by applications and network hardware.\",\n          \"The process of uncovering and interpreting electronic data to preserve evidence in a way that is suitable for presentation in a court of law. Used to investigate cyber crimes and security incidents.\"\n        ],\n        \"semantic_type\": \"\",\n        \"description\": \"\"\n      }\n    }\n  ]\n}"
            }
          },
          "metadata": {},
          "execution_count": 108
        }
      ]
    },
    {
      "cell_type": "code",
      "source": [
        "# Load sentence transformer for embeddings\n",
        "print(\"Loading embedding model...\")\n",
        "embedding_model = SentenceTransformer('all-MiniLM-L6-v2')\n",
        "\n",
        "# Create embeddings for our knowledge base\n",
        "print(\"Creating embeddings for knowledge base...\")\n",
        "df['text'] = df['Concept'] + \": \" + df['Description']\n",
        "embeddings = embedding_model.encode(df['text'].tolist())\n",
        "print(f\"Created {len(embeddings)} embeddings of dimension {embeddings[0].shape[0]}\")"
      ],
      "metadata": {
        "colab": {
          "base_uri": "https://localhost:8080/"
        },
        "id": "zI0hyu9iHOPe",
        "outputId": "6cfdf671-e01b-441b-ce15-fcb361fe8edb"
      },
      "execution_count": null,
      "outputs": [
        {
          "output_type": "stream",
          "name": "stdout",
          "text": [
            "Loading embedding model...\n",
            "Creating embeddings for knowledge base...\n",
            "Created 27 embeddings of dimension 384\n"
          ]
        }
      ]
    },
    {
      "cell_type": "code",
      "source": [
        "# function to retrive relevent concept\n",
        "def retriever(query, df, embeddings):\n",
        "  device = torch.device(\"cuda\" if torch.cuda.is_available() else \"cpu\")\n",
        "  embeddings = torch.tensor(embeddings).to(device)\n",
        "\n",
        "  # encode the query\n",
        "  query_embedding = embedding_model.encode([query], convert_to_tensor=True)\n",
        "\n",
        "  # compute cosined similarities between query and our data\n",
        "  similarities = util.pytorch_cos_sim(query_embedding, embeddings)[0]\n",
        "\n",
        "  most_relevant_index = similarities.argmax().item()\n",
        "\n",
        "  # Return the most relevant concept and description\n",
        "  return df.iloc[most_relevant_index]['Concept'], df.iloc[most_relevant_index]['Description']"
      ],
      "metadata": {
        "id": "uxKiGcJmMlxj"
      },
      "execution_count": null,
      "outputs": []
    },
    {
      "cell_type": "code",
      "source": [
        "query = \"What is phishing?\"\n",
        "concept, description = retriever(query, df, embeddings)\n",
        "print(\"Relevant Concept:\", concept)\n",
        "print(\"Description:\", description)"
      ],
      "metadata": {
        "colab": {
          "base_uri": "https://localhost:8080/"
        },
        "id": "qaw-xyOuOgoP",
        "outputId": "dbb56b07-0060-42f7-9cba-ec79dd697c86"
      },
      "execution_count": null,
      "outputs": [
        {
          "output_type": "stream",
          "name": "stdout",
          "text": [
            "Relevant Concept: Phishing\n",
            "Description: A social engineering attack where attackers send fraudulent messages to trick individuals into revealing sensitive information or installing malware. Common indicators include urgent language, suspicious links, and requests for personal information.\n"
          ]
        }
      ]
    },
    {
      "cell_type": "code",
      "source": [
        "# Function to generate response using FLAN-T5\n",
        "def generate_response(query, model, retrieved_concept, retrieved_desc):\n",
        "    device = torch.device(\"cuda\" if torch.cuda.is_available() else \"cpu\")\n",
        "    model.to(device)\n",
        "\n",
        "    # Combine the query with the relevant information\n",
        "    input_text = f\"Question: {query} Answer with context: {retrieved_concept} \\n Description: {retrieved_desc}\"\n",
        "\n",
        "    # Tokenize the prompt\n",
        "    encoded_input = tokenizer(input_text, return_tensors=\"pt\", padding=True, truncation=True)\n",
        "    input_ids = encoded_input[\"input_ids\"].to(device)\n",
        "    attention_mask = encoded_input[\"attention_mask\"].to(device)\n",
        "\n",
        "    # Generate response\n",
        "    outputs = model.generate(input_ids, attention_mask=attention_mask, max_length=256, num_return_sequences=1, no_repeat_ngram_size=2)\n",
        "\n",
        "    # Decode and return the generated response\n",
        "    response = tokenizer.decode(outputs[0], skip_special_tokens=True)\n",
        "    return response"
      ],
      "metadata": {
        "id": "5PJsK9azIH5O"
      },
      "execution_count": null,
      "outputs": []
    },
    {
      "cell_type": "code",
      "source": [
        "def question_answer_rag(query, model, df, embeddings):\n",
        "    # Retrieve relevant concept and description\n",
        "    retrieved_concept, retrieved_desc = retriever(query, df, embeddings)\n",
        "\n",
        "    answer = generate_response(query, model, retrieved_concept, retrieved_desc)\n",
        "    return answer"
      ],
      "metadata": {
        "id": "tIICcg81WDRS"
      },
      "execution_count": null,
      "outputs": []
    },
    {
      "cell_type": "code",
      "source": [
        "model_name = \"distilgpt2\"\n",
        "tokenizer = AutoTokenizer.from_pretrained(model_name)\n",
        "tokenizer.pad_token = tokenizer.eos_token\n",
        "generator_model = AutoModelForCausalLM.from_pretrained(model_name)"
      ],
      "metadata": {
        "colab": {
          "base_uri": "https://localhost:8080/",
          "height": 49,
          "referenced_widgets": [
            "4df2be8ecb83447d936753ddb63b5bfc",
            "f1261aba35974555bd8e267f899b3327",
            "9ea4a612c87745d3a9a9ff82e038ec88",
            "1c5256ac13d0437ba0d7c029dff2be7b",
            "79489311d81c4a5fa91ce555491fb9d2",
            "42b88da05d0e4e3f9742bd00a1da1e09",
            "32b01e9931994db1820ef06a61fd388e",
            "63674a84e7de4f1eaf5c6044bbdd1089",
            "fe0cc3d9a1684ce6a6aae33c69000019",
            "87dd026f45ca40b9a409f1c4dc13586f",
            "39989e98694b4074a5c8cd42d9b8c5a5"
          ]
        },
        "id": "z-1G6TGgXqT1",
        "outputId": "55dd5841-6907-440c-aebe-ee465a8633bd"
      },
      "execution_count": null,
      "outputs": [
        {
          "output_type": "display_data",
          "data": {
            "text/plain": [
              "generation_config.json:   0%|          | 0.00/124 [00:00<?, ?B/s]"
            ],
            "application/vnd.jupyter.widget-view+json": {
              "version_major": 2,
              "version_minor": 0,
              "model_id": "4df2be8ecb83447d936753ddb63b5bfc"
            }
          },
          "metadata": {}
        }
      ]
    },
    {
      "cell_type": "code",
      "source": [
        "cybersecurity_questions = [\n",
        "    'What is phishing and how can you protect against it?',\n",
        "    'How does ransomware spread and what steps should be taken to prevent it?',\n",
        "    'What role does a firewall play in network security?',\n",
        "    'What is a Man-in-the-Middle (MitM) attack and how can encrypted communications prevent it?',\n",
        "    'What is penetration testing and why is it important for identifying security vulnerabilities?'\n",
        "]\n",
        "security_compliance_questions = [\n",
        "    'What is security compliance?',\n",
        "    'What is the purpose of risk management in security?',\n",
        "    'What are the key components of GDPR compliance?',\n",
        "    'What are the main principles of the NIST cybersecurity framework?',\n",
        "    'What is the purpose of SOC 1 and who needs to follow it?',\n",
        "]\n",
        "\n",
        "# testing the pre-trained model\n",
        "print(\"Cybersecurity question answering after implementation of RAG: \\n\")\n",
        "for question in cybersecurity_questions:\n",
        "    answer = question_answer_rag(question, generator_model, df, embeddings)\n",
        "    print(f\"{answer}\\n\")\n",
        "\n",
        "print(\"------------------------------------------------\")\n",
        "\n",
        "print(\"Security compliance question answering after implementation of RAG: \\n \")\n",
        "for question in security_compliance_questions:\n",
        "    answer = question_answer_rag(question, generator_model, df, embeddings)\n",
        "    print(f\"{answer}\\n\")"
      ],
      "metadata": {
        "colab": {
          "base_uri": "https://localhost:8080/"
        },
        "id": "4w8oaZLNVKOr",
        "outputId": "733cac9c-b4e5-4b7d-9ef1-8305c7fb5640"
      },
      "execution_count": null,
      "outputs": [
        {
          "output_type": "stream",
          "name": "stderr",
          "text": [
            "Setting `pad_token_id` to `eos_token_id`:50256 for open-end generation.\n"
          ]
        },
        {
          "output_type": "stream",
          "name": "stdout",
          "text": [
            "Cybersecurity question answering after implementation of RAG: \n",
            "\n"
          ]
        },
        {
          "output_type": "stream",
          "name": "stderr",
          "text": [
            "Setting `pad_token_id` to `eos_token_id`:50256 for open-end generation.\n"
          ]
        },
        {
          "output_type": "stream",
          "name": "stdout",
          "text": [
            "Question: What is phishing and how can you protect against it? Answer with context: Phishing \n",
            " Description: A social engineering attack where attackers send fraudulent messages to trick individuals into revealing sensitive information or installing malware. Common indicators include urgent language, suspicious links, and requests for personal information.\n",
            "\n",
            "The attack is not a new attack, but it is a major threat to the security of the Internet. The attacks are not new, they are still being used by the government, the media, governments, corporations, government agencies, etc. It is important to remember that phishers are often used to attack the web, especially in the United States. This is why phisher attacks have been used in many countries, including the US, Canada, Australia, New Zealand, Singapore, Malaysia, Taiwan, Thailand, Vietnam, Indonesia, Pakistan, South Korea, China, India, Japan, Russia, Saudi Arabia, United Kingdom, France, Germany, Italy, Spain, Sweden, Switzerland, Turkey, Ukraine, Uzbekistan, Zimbabwe, Syria, Iraq, Afghanistan, Yemen, Somalia, Sudan, Venezuela, Iran, Libya, North Korea.\n",
            "\n"
          ]
        },
        {
          "output_type": "stream",
          "name": "stderr",
          "text": [
            "Setting `pad_token_id` to `eos_token_id`:50256 for open-end generation.\n"
          ]
        },
        {
          "output_type": "stream",
          "name": "stdout",
          "text": [
            "Question: How does ransomware spread and what steps should be taken to prevent it? Answer with context: Ransomware \n",
            " Description: A type of malicious software that encrypts a victim's files and demands payment for the decryption key. Ransomware often spreads through phishing emails, malicious downloads, or exploiting system vulnerabilities.\n",
            "\n",
            "The ransomware is a type that can be used to infect computers, computers and other systems. It can also be exploited to steal data from computers or other computers. The ransomware can infect the computer, computer or computer. A ransomware attack can cause the victim to lose the data and the system is compromised. This type can take place in the form of a ransomware or ransomware. In the case of ransomware, the ransomware has a number of different types of attacks. For example, a malicious attack could cause a computer to be infected with a virus that is infected by a malware. If the malware is not infected, it can then infect a system. An attacker can use a different type or type to attack the same system, but the attacker cannot use the different attack type. When the attack is complete, an attacker may use different attacks to gain access to the files. However, if the malicious attacker is able to access the file, he or she\n",
            "\n"
          ]
        },
        {
          "output_type": "stream",
          "name": "stderr",
          "text": [
            "Setting `pad_token_id` to `eos_token_id`:50256 for open-end generation.\n"
          ]
        },
        {
          "output_type": "stream",
          "name": "stdout",
          "text": [
            "Question: What role does a firewall play in network security? Answer with context: Firewall \n",
            " Description: A network security device that monitors and filters incoming and outgoing network traffic based on an organization's security policies. Firewalls establish a barrier between trusted internal networks and untrusted external networks. The firewall is a network firewall that is designed to protect the network from attacks.\n",
            "\n",
            "The firewall protects the user from any malicious activity. It protects against any unauthorized activity or malicious activities. This firewall prevents unauthorized access to the Internet. If a user is using a VPN or other network, the firewall will not be able to access the internet. A firewall can be used to prevent unauthorized use of the web. In addition, a computer can access a web browser or a browser that can't access it. An attacker can use a proxy to connect to a server. When a malicious user accesses the server, it can then use the proxy. To prevent a remote attacker from accessing the computer, an attacker must use an external proxy that allows the attacker to use it to bypass the security of a website. For example, if a site is blocked by a DNS server or an Internet connection, then the attackers can bypass a local DNS service. On the other hand, when a domain\n",
            "\n"
          ]
        },
        {
          "output_type": "stream",
          "name": "stderr",
          "text": [
            "Setting `pad_token_id` to `eos_token_id`:50256 for open-end generation.\n"
          ]
        },
        {
          "output_type": "stream",
          "name": "stdout",
          "text": [
            "Question: What is a Man-in-the-Middle (MitM) attack and how can encrypted communications prevent it? Answer with context: Man-in-the-Middle Attack \n",
            " Description: An attack where the attacker secretly intercepts and possibly alters communications between two parties who believe they're directly communicating with each other. It can be used to steal login credentials or personal information.\n",
            "\n",
            "The attacker can use a combination of encryption and encryption to intercept communications. The attacker is able to use the combination to decrypt communications from two different parties. This is the case with the MitM attack. In the example above, the attack is used by the two party to obtain a password for the password of the user. If the key is not in the same key, it is encrypted. However, if the encryption is in a different key and the message is different, then the encrypted message will be encrypted and encrypted again. When the sender is using the different encryption, he or she can decrypt the messages. A key that is keyed to the other party can also be decrypted. For example, a key with a unique key can encrypt the entire message. An attacker could use this combination as a way to encrypt a message from the recipient. To decrypt a text message,\n",
            "\n"
          ]
        },
        {
          "output_type": "stream",
          "name": "stderr",
          "text": [
            "Setting `pad_token_id` to `eos_token_id`:50256 for open-end generation.\n"
          ]
        },
        {
          "output_type": "stream",
          "name": "stdout",
          "text": [
            "Question: What is penetration testing and why is it important for identifying security vulnerabilities? Answer with context: Penetration Testing \n",
            " Description: An authorized simulated attack on a computer system to evaluate security. Penetration testers use the same tools and techniques as attackers to find and demonstrate business impacts of vulnerabilities.\n",
            "\n",
            "The penetration test is a test of the security of a system. The penetration tests are a way to test the vulnerabilities of an operating system, and the penetration testers are the ones who are responsible for the vulnerability. This test can be used to determine the extent of vulnerability in a given system and to identify the source of attack. In this test, the attacker is able to detect the presence of any vulnerabilities in the system or to discover the existence of other vulnerabilities that may be present. If the attack is detected, it is the first time the victim has been exposed to the threat. It is important to understand the nature of penetration and how to use it.\n",
            "\n",
            "------------------------------------------------\n",
            "Security compliance question answering after implementation of RAG: \n",
            " \n"
          ]
        },
        {
          "output_type": "stream",
          "name": "stderr",
          "text": [
            "Setting `pad_token_id` to `eos_token_id`:50256 for open-end generation.\n"
          ]
        },
        {
          "output_type": "stream",
          "name": "stdout",
          "text": [
            "Question: What is security compliance? Answer with context: Security Misconfigurations \n",
            " Description: Improperly configured security settings that leave systems vulnerable. Common examples include default credentials, error messages revealing too much information, and unnecessary features enabled.\n",
            "\n",
            "The following is a list of security misconfiguration scenarios that are not covered in this article. The following are examples of the security configuration scenarios. These are the following scenarios:\n",
            "1. Security mis-configure: The security manager is not aware of any security issues. This is the case when the user is using a computer. If the administrator is aware that the system is running a malicious program, the attacker can use the same configuration to execute malicious code. In this scenario, a user can execute a program that is run by the computer, or a system that has a security issue. For example, if the program is being run on a different computer or system, it is executing a script that can be run from the command line. When the script is executed, an attacker will execute the code that was run. A user will be able to run the malicious script, but the process will not be executed. An attacker may execute an application that uses a remote control system. To prevent the execution of a specific program from\n",
            "\n"
          ]
        },
        {
          "output_type": "stream",
          "name": "stderr",
          "text": [
            "Setting `pad_token_id` to `eos_token_id`:50256 for open-end generation.\n"
          ]
        },
        {
          "output_type": "stream",
          "name": "stdout",
          "text": [
            "Question: What is the purpose of risk management in security? Answer with context: Defense in Depth \n",
            " Description: A cybersecurity approach that uses multiple layers of security controls throughout a system. If one defense fails, others still provide protection, making it harder for attackers to reach valuable assets.\n",
            "\n",
            "The security of a network is a critical part of the security. The security is not a single security issue. It is an interconnected system that is interconnected with multiple networks. This is why the Security Policy Center (SCPC) is dedicated to providing a comprehensive and comprehensive guide to the best security practices for security professionals.\n",
            "\n"
          ]
        },
        {
          "output_type": "stream",
          "name": "stderr",
          "text": [
            "Setting `pad_token_id` to `eos_token_id`:50256 for open-end generation.\n"
          ]
        },
        {
          "output_type": "stream",
          "name": "stdout",
          "text": [
            "Question: What are the key components of GDPR compliance? Answer with context: Security Misconfigurations \n",
            " Description: Improperly configured security settings that leave systems vulnerable. Common examples include default credentials, error messages revealing too much information, and unnecessary features enabled.\n",
            "\n",
            "The GDPA compliance standard is a standard that is used to enforce the security of the system. It is designed to protect the integrity of systems and to prevent the misuse of sensitive information. The standard has been adopted by the Federal Trade Commission and the Department of Homeland Security. This standard was adopted in the wake of a series of attacks on the United States and other countries. In addition, the standard provides a set of security features that are designed for the purpose of protecting the systems. These include:\n",
            "1. Security settings for all systems that have a security profile. 2. A set that includes a default password. 3. An optional set for a password that can be used for any other security feature. 4. Any system that has a system with a unique password, such as the one used in this example. 5. All systems with an optional password must have an additional password for each security security service. 6. No more than one system can have the same password as a single system, including all\n",
            "\n"
          ]
        },
        {
          "output_type": "stream",
          "name": "stderr",
          "text": [
            "Setting `pad_token_id` to `eos_token_id`:50256 for open-end generation.\n"
          ]
        },
        {
          "output_type": "stream",
          "name": "stdout",
          "text": [
            "Question: What are the main principles of the NIST cybersecurity framework? Answer with context: Defense in Depth \n",
            " Description: A cybersecurity approach that uses multiple layers of security controls throughout a system. If one defense fails, others still provide protection, making it harder for attackers to reach valuable assets.\n",
            "\n",
            "The NISD is a security framework that is designed to protect the integrity of a network. It is based on the principles that are used in the framework. The NISS is an open-source framework for the security of an organization. This framework is used to provide security for organizations and organizations. In addition, it is also used for security in a variety of different organizations, including the U.S. Department of Defense.\n",
            "\n",
            "Question: What is the purpose of SOC 1 and who needs to follow it? Answer with context: Defense in Depth \n",
            " Description: A cybersecurity approach that uses multiple layers of security controls throughout a system. If one defense fails, others still provide protection, making it harder for attackers to reach valuable assets.\n",
            "\n",
            "The purpose is to provide a secure, secure system that is secure and secure for all users. The purpose, of course, is for the security of the system to be secure. It is not a security issue, but rather a problem of how to protect the systems. This is a critical issue for any security solution. In the case of a cyberattack, the attacker must be able to access the network and access it. A cyber attack is an attack that can be accomplished by a single attacker. An attacker can then use the attack to gain access to the networks of other systems, including the Internet. For example, a hacker can use a computer to attack a network of computers. To gain control of an attacker's network, an adversary can access a server, or a remote server. When a user is able access an Internet connection, it is possible to obtain access from the server or the remote servers. However, if the user has access, he or she\n",
            "\n"
          ]
        }
      ]
    }
  ]
}